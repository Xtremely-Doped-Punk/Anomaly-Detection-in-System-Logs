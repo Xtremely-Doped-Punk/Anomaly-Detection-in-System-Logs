{
 "cells": [
  {
   "cell_type": "markdown",
   "id": "1add7a0c-bf6e-4763-9549-3c3c92182024",
   "metadata": {},
   "source": [
    "---\n",
    "---\n",
    "\n",
    "<h1 align='center'> Anamoly Detection </h1>\n",
    "<h2 align='center'> Log Parsing and PreProcessing</h2> \n",
    "\n",
    "**DATASET: HDFS (Hadoop Distributed File System)**\n",
    "Links:\n",
    "- (2k)Log - https://raw.githubusercontent.com/logpai/loghub/master/HDFS/HDFS_2k.log\n",
    "- Entire Data - https://zenodo.org/record/3227177/files/HDFS_1.tar.gz\n",
    "\n",
    "---\n",
    "---"
   ]
  },
  {
   "cell_type": "code",
   "execution_count": 1,
   "id": "9d05a521",
   "metadata": {},
   "outputs": [
    {
     "ename": "ModuleNotFoundError",
     "evalue": "No module named 'transformers'",
     "output_type": "error",
     "traceback": [
      "\u001b[1;31m---------------------------------------------------------------------------\u001b[0m",
      "\u001b[1;31mModuleNotFoundError\u001b[0m                       Traceback (most recent call last)",
      "Cell \u001b[1;32mIn [1], line 8\u001b[0m\n\u001b[0;32m      6\u001b[0m \u001b[38;5;28;01mfrom\u001b[39;00m \u001b[38;5;21;01msklearn\u001b[39;00m\u001b[38;5;21;01m.\u001b[39;00m\u001b[38;5;21;01mutils\u001b[39;00m \u001b[38;5;28;01mimport\u001b[39;00m shuffle\n\u001b[0;32m      7\u001b[0m \u001b[38;5;28;01mfrom\u001b[39;00m \u001b[38;5;21;01mcollections\u001b[39;00m \u001b[38;5;28;01mimport\u001b[39;00m OrderedDict\n\u001b[1;32m----> 8\u001b[0m \u001b[38;5;28;01mimport\u001b[39;00m \u001b[38;5;21;01mtransformers\u001b[39;00m\n\u001b[0;32m      9\u001b[0m \u001b[38;5;28;01mfrom\u001b[39;00m \u001b[38;5;21;01msklearn\u001b[39;00m\u001b[38;5;21;01m.\u001b[39;00m\u001b[38;5;21;01mmodel_selection\u001b[39;00m \u001b[38;5;28;01mimport\u001b[39;00m train_test_split\n\u001b[0;32m     10\u001b[0m \u001b[38;5;28;01mfrom\u001b[39;00m \u001b[38;5;21;01mkeras\u001b[39;00m\u001b[38;5;21;01m.\u001b[39;00m\u001b[38;5;21;01mpreprocessing\u001b[39;00m\u001b[38;5;21;01m.\u001b[39;00m\u001b[38;5;21;01mtext\u001b[39;00m \u001b[38;5;28;01mimport\u001b[39;00m Tokenizer\n",
      "\u001b[1;31mModuleNotFoundError\u001b[0m: No module named 'transformers'"
     ]
    }
   ],
   "source": [
    "import pandas as pd\n",
    "import os\n",
    "import numpy as np\n",
    "import matplotlib.pyplot as plt\n",
    "import re\n",
    "from sklearn.utils import shuffle\n",
    "from collections import OrderedDict\n",
    "import transformers\n",
    "from sklearn.model_selection import train_test_split\n",
    "from keras.preprocessing.text import Tokenizer\n",
    "from keras.preprocessing.sequence import pad_sequences\n",
    "from keras.datasets import mnist\n",
    "import tensorflow as tf\n",
    "from tensorflow.keras import preprocessing\n",
    "from keras.layers import Dense, Dropout, Conv2D, MaxPooling2D, Flatten\n",
    "from keras.utils import np_utils\n",
    "from tensorflow.keras.optimizers import Adam\n",
    "from sklearn.metrics import accuracy_score, confusion_matrix, classification_report, recall_score\n",
    "from mlxtend.plotting import plot_confusion_matrix\n",
    "from keras import datasets, layers, models, losses\n",
    "import warnings\n",
    "warnings.filterwarnings('ignore')"
   ]
  },
  {
   "cell_type": "markdown",
   "id": "04327d42",
   "metadata": {},
   "source": [
    "### Loading HDFS"
   ]
  },
  {
   "cell_type": "code",
   "execution_count": 2,
   "id": "768d2a97",
   "metadata": {},
   "outputs": [],
   "source": [
    "def loadhdfs(log_file, label_file, save_csv= True):\n",
    "    struct_logg = pd.read_csv(struct_log, engine='c',\n",
    "                na_filter=False, memory_map=True)\n",
    "    data_dict = OrderedDict()\n",
    "    label_data = pd.read_csv(label_file, engine='c', na_filter=False, memory_map=True)\n",
    "    label_data = label_data.set_index('BlockId')\n",
    "    label_dict = label_data['Label'].to_dict()\n",
    "    struct_logg['label'] = struct_logg['Content'].apply(lambda x: 1 if label_dict[ re.findall(r'(blk_-?\\d+)', x)[0]] == 'Anomaly' else 0)\n",
    "    if save_csv:\n",
    "        struct_logg.to_csv('data_instances.csv', index=False)\n",
    "    \n",
    "    return struct_logg"
   ]
  },
  {
   "cell_type": "code",
   "execution_count": 4,
   "id": "36d5b67b",
   "metadata": {},
   "outputs": [
    {
     "data": {
      "text/html": [
       "<div>\n",
       "<style scoped>\n",
       "    .dataframe tbody tr th:only-of-type {\n",
       "        vertical-align: middle;\n",
       "    }\n",
       "\n",
       "    .dataframe tbody tr th {\n",
       "        vertical-align: top;\n",
       "    }\n",
       "\n",
       "    .dataframe thead th {\n",
       "        text-align: right;\n",
       "    }\n",
       "</style>\n",
       "<table border=\"1\" class=\"dataframe\">\n",
       "  <thead>\n",
       "    <tr style=\"text-align: right;\">\n",
       "      <th></th>\n",
       "      <th>LineId</th>\n",
       "      <th>Date</th>\n",
       "      <th>Time</th>\n",
       "      <th>Pid</th>\n",
       "      <th>Level</th>\n",
       "      <th>Component</th>\n",
       "      <th>Content</th>\n",
       "      <th>EventId</th>\n",
       "      <th>EventTemplate</th>\n",
       "      <th>ParameterList</th>\n",
       "      <th>label</th>\n",
       "    </tr>\n",
       "  </thead>\n",
       "  <tbody>\n",
       "    <tr>\n",
       "      <th>0</th>\n",
       "      <td>1</td>\n",
       "      <td>81109</td>\n",
       "      <td>203615</td>\n",
       "      <td>148</td>\n",
       "      <td>INFO</td>\n",
       "      <td>dfs.DataNode$PacketResponder</td>\n",
       "      <td>PacketResponder 1 for block blk_38865049064139...</td>\n",
       "      <td>dc2c74b7</td>\n",
       "      <td>PacketResponder &lt;*&gt; for block &lt;*&gt; terminating</td>\n",
       "      <td>['1', 'blk_38865049064139660']</td>\n",
       "      <td>0</td>\n",
       "    </tr>\n",
       "    <tr>\n",
       "      <th>1</th>\n",
       "      <td>2</td>\n",
       "      <td>81109</td>\n",
       "      <td>203807</td>\n",
       "      <td>222</td>\n",
       "      <td>INFO</td>\n",
       "      <td>dfs.DataNode$PacketResponder</td>\n",
       "      <td>PacketResponder 0 for block blk_-6952295868487...</td>\n",
       "      <td>dc2c74b7</td>\n",
       "      <td>PacketResponder &lt;*&gt; for block &lt;*&gt; terminating</td>\n",
       "      <td>['0', 'blk_-6952295868487656571']</td>\n",
       "      <td>0</td>\n",
       "    </tr>\n",
       "    <tr>\n",
       "      <th>2</th>\n",
       "      <td>3</td>\n",
       "      <td>81109</td>\n",
       "      <td>204005</td>\n",
       "      <td>35</td>\n",
       "      <td>INFO</td>\n",
       "      <td>dfs.FSNamesystem</td>\n",
       "      <td>BLOCK* NameSystem.addStoredBlock: blockMap upd...</td>\n",
       "      <td>5d5de21c</td>\n",
       "      <td>BLOCK* NameSystem.addStoredBlock: blockMap upd...</td>\n",
       "      <td>['10.251.73.220:50010', 'blk_71283702376877284...</td>\n",
       "      <td>0</td>\n",
       "    </tr>\n",
       "    <tr>\n",
       "      <th>3</th>\n",
       "      <td>4</td>\n",
       "      <td>81109</td>\n",
       "      <td>204015</td>\n",
       "      <td>308</td>\n",
       "      <td>INFO</td>\n",
       "      <td>dfs.DataNode$PacketResponder</td>\n",
       "      <td>PacketResponder 2 for block blk_82291938032499...</td>\n",
       "      <td>dc2c74b7</td>\n",
       "      <td>PacketResponder &lt;*&gt; for block &lt;*&gt; terminating</td>\n",
       "      <td>['2', 'blk_8229193803249955061']</td>\n",
       "      <td>0</td>\n",
       "    </tr>\n",
       "    <tr>\n",
       "      <th>4</th>\n",
       "      <td>5</td>\n",
       "      <td>81109</td>\n",
       "      <td>204106</td>\n",
       "      <td>329</td>\n",
       "      <td>INFO</td>\n",
       "      <td>dfs.DataNode$PacketResponder</td>\n",
       "      <td>PacketResponder 2 for block blk_-6670958622368...</td>\n",
       "      <td>dc2c74b7</td>\n",
       "      <td>PacketResponder &lt;*&gt; for block &lt;*&gt; terminating</td>\n",
       "      <td>['2', 'blk_-6670958622368987959']</td>\n",
       "      <td>0</td>\n",
       "    </tr>\n",
       "    <tr>\n",
       "      <th>...</th>\n",
       "      <td>...</td>\n",
       "      <td>...</td>\n",
       "      <td>...</td>\n",
       "      <td>...</td>\n",
       "      <td>...</td>\n",
       "      <td>...</td>\n",
       "      <td>...</td>\n",
       "      <td>...</td>\n",
       "      <td>...</td>\n",
       "      <td>...</td>\n",
       "      <td>...</td>\n",
       "    </tr>\n",
       "    <tr>\n",
       "      <th>1995</th>\n",
       "      <td>1996</td>\n",
       "      <td>81111</td>\n",
       "      <td>101621</td>\n",
       "      <td>24902</td>\n",
       "      <td>INFO</td>\n",
       "      <td>dfs.DataNode$DataXceiver</td>\n",
       "      <td>Receiving block blk_4198733391373026104 src: /...</td>\n",
       "      <td>09a53393</td>\n",
       "      <td>Receiving block &lt;*&gt; src: &lt;*&gt; dest: &lt;*&gt;</td>\n",
       "      <td>['blk_4198733391373026104', '/10.251.106.10:46...</td>\n",
       "      <td>0</td>\n",
       "    </tr>\n",
       "    <tr>\n",
       "      <th>1996</th>\n",
       "      <td>1997</td>\n",
       "      <td>81111</td>\n",
       "      <td>101735</td>\n",
       "      <td>26595</td>\n",
       "      <td>INFO</td>\n",
       "      <td>dfs.DataNode$PacketResponder</td>\n",
       "      <td>Received block blk_-5815145248455404269 of siz...</td>\n",
       "      <td>e3df2680</td>\n",
       "      <td>Received block &lt;*&gt; of size &lt;*&gt; from &lt;*&gt;</td>\n",
       "      <td>['blk_-5815145248455404269', '67108864', '/10....</td>\n",
       "      <td>0</td>\n",
       "    </tr>\n",
       "    <tr>\n",
       "      <th>1997</th>\n",
       "      <td>1998</td>\n",
       "      <td>81111</td>\n",
       "      <td>101804</td>\n",
       "      <td>26494</td>\n",
       "      <td>INFO</td>\n",
       "      <td>dfs.DataNode$DataXceiver</td>\n",
       "      <td>Receiving block blk_-295306975763175640 src: /...</td>\n",
       "      <td>09a53393</td>\n",
       "      <td>Receiving block &lt;*&gt; src: &lt;*&gt; dest: &lt;*&gt;</td>\n",
       "      <td>['blk_-295306975763175640', '/10.250.9.207:532...</td>\n",
       "      <td>0</td>\n",
       "    </tr>\n",
       "    <tr>\n",
       "      <th>1998</th>\n",
       "      <td>1999</td>\n",
       "      <td>81111</td>\n",
       "      <td>101954</td>\n",
       "      <td>26414</td>\n",
       "      <td>INFO</td>\n",
       "      <td>dfs.DataNode$PacketResponder</td>\n",
       "      <td>PacketResponder 0 for block blk_52257196770490...</td>\n",
       "      <td>dc2c74b7</td>\n",
       "      <td>PacketResponder &lt;*&gt; for block &lt;*&gt; terminating</td>\n",
       "      <td>['0', 'blk_5225719677049010638']</td>\n",
       "      <td>0</td>\n",
       "    </tr>\n",
       "    <tr>\n",
       "      <th>1999</th>\n",
       "      <td>2000</td>\n",
       "      <td>81111</td>\n",
       "      <td>102017</td>\n",
       "      <td>26347</td>\n",
       "      <td>INFO</td>\n",
       "      <td>dfs.DataNode$DataXceiver</td>\n",
       "      <td>Receiving block blk_4343207286455274569 src: /...</td>\n",
       "      <td>09a53393</td>\n",
       "      <td>Receiving block &lt;*&gt; src: &lt;*&gt; dest: &lt;*&gt;</td>\n",
       "      <td>['blk_4343207286455274569', '/10.250.9.207:597...</td>\n",
       "      <td>0</td>\n",
       "    </tr>\n",
       "  </tbody>\n",
       "</table>\n",
       "<p>2000 rows × 11 columns</p>\n",
       "</div>"
      ],
      "text/plain": [
       "      LineId   Date    Time    Pid Level                     Component  \\\n",
       "0          1  81109  203615    148  INFO  dfs.DataNode$PacketResponder   \n",
       "1          2  81109  203807    222  INFO  dfs.DataNode$PacketResponder   \n",
       "2          3  81109  204005     35  INFO              dfs.FSNamesystem   \n",
       "3          4  81109  204015    308  INFO  dfs.DataNode$PacketResponder   \n",
       "4          5  81109  204106    329  INFO  dfs.DataNode$PacketResponder   \n",
       "...      ...    ...     ...    ...   ...                           ...   \n",
       "1995    1996  81111  101621  24902  INFO      dfs.DataNode$DataXceiver   \n",
       "1996    1997  81111  101735  26595  INFO  dfs.DataNode$PacketResponder   \n",
       "1997    1998  81111  101804  26494  INFO      dfs.DataNode$DataXceiver   \n",
       "1998    1999  81111  101954  26414  INFO  dfs.DataNode$PacketResponder   \n",
       "1999    2000  81111  102017  26347  INFO      dfs.DataNode$DataXceiver   \n",
       "\n",
       "                                                Content   EventId  \\\n",
       "0     PacketResponder 1 for block blk_38865049064139...  dc2c74b7   \n",
       "1     PacketResponder 0 for block blk_-6952295868487...  dc2c74b7   \n",
       "2     BLOCK* NameSystem.addStoredBlock: blockMap upd...  5d5de21c   \n",
       "3     PacketResponder 2 for block blk_82291938032499...  dc2c74b7   \n",
       "4     PacketResponder 2 for block blk_-6670958622368...  dc2c74b7   \n",
       "...                                                 ...       ...   \n",
       "1995  Receiving block blk_4198733391373026104 src: /...  09a53393   \n",
       "1996  Received block blk_-5815145248455404269 of siz...  e3df2680   \n",
       "1997  Receiving block blk_-295306975763175640 src: /...  09a53393   \n",
       "1998  PacketResponder 0 for block blk_52257196770490...  dc2c74b7   \n",
       "1999  Receiving block blk_4343207286455274569 src: /...  09a53393   \n",
       "\n",
       "                                          EventTemplate  \\\n",
       "0         PacketResponder <*> for block <*> terminating   \n",
       "1         PacketResponder <*> for block <*> terminating   \n",
       "2     BLOCK* NameSystem.addStoredBlock: blockMap upd...   \n",
       "3         PacketResponder <*> for block <*> terminating   \n",
       "4         PacketResponder <*> for block <*> terminating   \n",
       "...                                                 ...   \n",
       "1995             Receiving block <*> src: <*> dest: <*>   \n",
       "1996            Received block <*> of size <*> from <*>   \n",
       "1997             Receiving block <*> src: <*> dest: <*>   \n",
       "1998      PacketResponder <*> for block <*> terminating   \n",
       "1999             Receiving block <*> src: <*> dest: <*>   \n",
       "\n",
       "                                          ParameterList  label  \n",
       "0                        ['1', 'blk_38865049064139660']      0  \n",
       "1                     ['0', 'blk_-6952295868487656571']      0  \n",
       "2     ['10.251.73.220:50010', 'blk_71283702376877284...      0  \n",
       "3                      ['2', 'blk_8229193803249955061']      0  \n",
       "4                     ['2', 'blk_-6670958622368987959']      0  \n",
       "...                                                 ...    ...  \n",
       "1995  ['blk_4198733391373026104', '/10.251.106.10:46...      0  \n",
       "1996  ['blk_-5815145248455404269', '67108864', '/10....      0  \n",
       "1997  ['blk_-295306975763175640', '/10.250.9.207:532...      0  \n",
       "1998                   ['0', 'blk_5225719677049010638']      0  \n",
       "1999  ['blk_4343207286455274569', '/10.250.9.207:597...      0  \n",
       "\n",
       "[2000 rows x 11 columns]"
      ]
     },
     "execution_count": 4,
     "metadata": {},
     "output_type": "execute_result"
    }
   ],
   "source": [
    "struct_log = \"HDFS_2k.log_structured.csv\" # The structured log file\n",
    "label_file = 'anomaly_label.csv' # The anomaly label file\n",
    "\n",
    "log_df= loadhdfs(struct_log,label_file)\n",
    "log_df"
   ]
  },
  {
   "cell_type": "markdown",
   "id": "94b00039",
   "metadata": {},
   "source": [
    "### preprocessing"
   ]
  },
  {
   "cell_type": "code",
   "execution_count": 5,
   "id": "abdc4a0d",
   "metadata": {},
   "outputs": [],
   "source": [
    "clean = []\n",
    "filename = \"data_instances.csv\" \n",
    "y_data =[]\n",
    "x_data =[]\n",
    "with open(filename) as file:\n",
    "    lines = file.readlines()\n",
    "    lines = [line.rstrip() for line in lines]\n",
    "for i in range(len(lines)):    \n",
    "    lines[i] = lines[i].replace(',',' ').replace(\"-\", \"_\").replace(\"_\", \"\")\n",
    "    temp = re.sub(r'\\W+', ' ',lines[i])\n",
    "    y_data.append(temp[-1:])\n",
    "    x_data.append(temp[:-1])"
   ]
  },
  {
   "cell_type": "code",
   "execution_count": 8,
   "id": "54bcfae8",
   "metadata": {},
   "outputs": [
    {
     "data": {
      "text/html": [
       "<div>\n",
       "<style scoped>\n",
       "    .dataframe tbody tr th:only-of-type {\n",
       "        vertical-align: middle;\n",
       "    }\n",
       "\n",
       "    .dataframe tbody tr th {\n",
       "        vertical-align: top;\n",
       "    }\n",
       "\n",
       "    .dataframe thead th {\n",
       "        text-align: right;\n",
       "    }\n",
       "</style>\n",
       "<table border=\"1\" class=\"dataframe\">\n",
       "  <thead>\n",
       "    <tr style=\"text-align: right;\">\n",
       "      <th></th>\n",
       "      <th>X_data</th>\n",
       "      <th>Y_data</th>\n",
       "    </tr>\n",
       "  </thead>\n",
       "  <tbody>\n",
       "    <tr>\n",
       "      <th>0</th>\n",
       "      <td>1 81109 203615 148 INFO dfs DataNode PacketRes...</td>\n",
       "      <td>0</td>\n",
       "    </tr>\n",
       "    <tr>\n",
       "      <th>1</th>\n",
       "      <td>2 81109 203807 222 INFO dfs DataNode PacketRes...</td>\n",
       "      <td>0</td>\n",
       "    </tr>\n",
       "    <tr>\n",
       "      <th>2</th>\n",
       "      <td>3 81109 204005 35 INFO dfs FSNamesystem BLOCK ...</td>\n",
       "      <td>0</td>\n",
       "    </tr>\n",
       "    <tr>\n",
       "      <th>3</th>\n",
       "      <td>4 81109 204015 308 INFO dfs DataNode PacketRes...</td>\n",
       "      <td>0</td>\n",
       "    </tr>\n",
       "    <tr>\n",
       "      <th>4</th>\n",
       "      <td>5 81109 204106 329 INFO dfs DataNode PacketRes...</td>\n",
       "      <td>0</td>\n",
       "    </tr>\n",
       "    <tr>\n",
       "      <th>...</th>\n",
       "      <td>...</td>\n",
       "      <td>...</td>\n",
       "    </tr>\n",
       "    <tr>\n",
       "      <th>1995</th>\n",
       "      <td>1996 81111 101621 24902 INFO dfs DataNode Data...</td>\n",
       "      <td>0</td>\n",
       "    </tr>\n",
       "    <tr>\n",
       "      <th>1996</th>\n",
       "      <td>1997 81111 101735 26595 INFO dfs DataNode Pack...</td>\n",
       "      <td>0</td>\n",
       "    </tr>\n",
       "    <tr>\n",
       "      <th>1997</th>\n",
       "      <td>1998 81111 101804 26494 INFO dfs DataNode Data...</td>\n",
       "      <td>0</td>\n",
       "    </tr>\n",
       "    <tr>\n",
       "      <th>1998</th>\n",
       "      <td>1999 81111 101954 26414 INFO dfs DataNode Pack...</td>\n",
       "      <td>0</td>\n",
       "    </tr>\n",
       "    <tr>\n",
       "      <th>1999</th>\n",
       "      <td>2000 81111 102017 26347 INFO dfs DataNode Data...</td>\n",
       "      <td>0</td>\n",
       "    </tr>\n",
       "  </tbody>\n",
       "</table>\n",
       "<p>2000 rows × 2 columns</p>\n",
       "</div>"
      ],
      "text/plain": [
       "                                                 X_data Y_data\n",
       "0     1 81109 203615 148 INFO dfs DataNode PacketRes...      0\n",
       "1     2 81109 203807 222 INFO dfs DataNode PacketRes...      0\n",
       "2     3 81109 204005 35 INFO dfs FSNamesystem BLOCK ...      0\n",
       "3     4 81109 204015 308 INFO dfs DataNode PacketRes...      0\n",
       "4     5 81109 204106 329 INFO dfs DataNode PacketRes...      0\n",
       "...                                                 ...    ...\n",
       "1995  1996 81111 101621 24902 INFO dfs DataNode Data...      0\n",
       "1996  1997 81111 101735 26595 INFO dfs DataNode Pack...      0\n",
       "1997  1998 81111 101804 26494 INFO dfs DataNode Data...      0\n",
       "1998  1999 81111 101954 26414 INFO dfs DataNode Pack...      0\n",
       "1999  2000 81111 102017 26347 INFO dfs DataNode Data...      0\n",
       "\n",
       "[2000 rows x 2 columns]"
      ]
     },
     "execution_count": 8,
     "metadata": {},
     "output_type": "execute_result"
    }
   ],
   "source": [
    "data = pd.DataFrame(list(zip(x_data[1:],y_data[1:])),\n",
    "               columns =['X_data', 'Y_data'])\n",
    "data"
   ]
  },
  {
   "cell_type": "code",
   "execution_count": 7,
   "id": "907b4437",
   "metadata": {},
   "outputs": [],
   "source": [
    "data.to_csv('cleaned_2k.data.csv', index=False)"
   ]
  },
  {
   "cell_type": "code",
   "execution_count": 22,
   "id": "fead467a",
   "metadata": {},
   "outputs": [
    {
     "data": {
      "image/png": "[encoded data removed]",
      "text/plain": [
       "<Figure size 720x360 with 1 Axes>"
      ]
     },
     "metadata": {
      "needs_background": "light"
     },
     "output_type": "display_data"
    }
   ],
   "source": [
    "fig = plt.figure(figsize =(10,5))\n",
    "ax = fig.add_axes([0,0,1,1])\n",
    "def add_value_label(x_list,y_list):\n",
    "    for i in range(1, len(x_list)+1):\n",
    "        plt.text(i-1,y_list[i-1],y_list[i-1],ha=\"center\",fontsize=12,fontweight=\"bold\")\n",
    "y_count = np.bincount(data['Y_data'])\n",
    "labels = ['0', '1']\n",
    "ax.bar(labels,y_count)\n",
    "add_value_label(labels,y_count)\n",
    "ax.set_xlabel('Class')\n",
    "ax.set_ylabel('Log count')\n",
    "ax.set_title('No of logs in both classes')\n",
    "plt.show()"
   ]
  },
  {
   "cell_type": "code",
   "execution_count": 23,
   "id": "7aee3868",
   "metadata": {},
   "outputs": [],
   "source": [
    "x_train, x_test, y_train, y_test = train_test_split(data['X_data'], data['Y_data'], test_size=0.2, random_state=12)"
   ]
  },
  {
   "cell_type": "code",
   "execution_count": 25,
   "id": "2ac20cc5",
   "metadata": {},
   "outputs": [
    {
     "name": "stdout",
     "output_type": "stream",
     "text": [
      "(1600,)\n",
      "(1600,)\n",
      "(400,)\n",
      "(400,)\n"
     ]
    }
   ],
   "source": [
    "print(x_train.shape)\n",
    "print(y_train.shape)\n",
    "print(x_test.shape)\n",
    "print(y_test.shape)"
   ]
  },
  {
   "cell_type": "code",
   "execution_count": 38,
   "id": "3608a3e5",
   "metadata": {},
   "outputs": [],
   "source": [
    "def tokenize_bert(corpus, maxlen=None):\n",
    "    tokenizer = transformers.BertTokenizer.from_pretrained('bert-base-uncased', do_lower_case=True) \n",
    "    maxlen = np.max([len(txt.split(\" \")) for txt in corpus]) if maxlen is None else maxlen\n",
    "    if maxlen < 20:\n",
    "        raise Exception(\"maxlen cannot be less than 20\")\n",
    "    else:\n",
    "        print(\"maxlen:\", maxlen)\n",
    "\n",
    "    ## add special tokens: [CLS] my name is mau ##ro [SEP]\n",
    "    maxqnans = np.int32((maxlen-20)/2)\n",
    "    corpus_tokenized = [\"[CLS] \"+\n",
    "                        \" \".join(tokenizer.tokenize(re.sub(r'[^\\w\\s]+|\\n', '', str(txt).lower().strip()))[:maxqnans])+\n",
    "                        \" [SEP] \" for txt in corpus]\n",
    "   \n",
    "    ## generate masks: [1, 1, 1, 1, 1, 1, 1, | (padding) 0, 0, 0, 0, 0, ...]\n",
    "    masks = [[1]*len(txt.split(\" \")) + [0]*(maxlen - len(txt.split(\" \"))) for txt in corpus_tokenized]\n",
    "    \n",
    "    ## padding\n",
    "    #corpus_tokenized = kprocessing.sequence.pad_sequences(corpus_tokenized, maxlen=maxlen, dtype=object, value='[PAD]')\n",
    "    txt2seq = [txt + \" [PAD]\"*(maxlen-len(txt.split(\" \"))) if len(txt.split(\" \")) != maxlen else txt for txt in corpus_tokenized]\n",
    "    \n",
    "    ## generate idx: [101, 22, 35, 44, 50, 60, 102, 0, 0, 0, 0, 0, 0, ...]\n",
    "    idx = [tokenizer.encode(seq.split(\" \")) for seq in txt2seq]\n",
    "    \n",
    "    ## generate segments: [0, 0, 0, 0, 0, 0, 1 [SEP], 0, 0, 0, 0, 2 [SEP], 0, ...]\n",
    "    segments = [] \n",
    "    for seq in txt2seq:\n",
    "        temp, i = [], 0\n",
    "        for token in seq.split(\" \"):\n",
    "            temp.append(i)\n",
    "            if token == \"[SEP]\":\n",
    "                i += 1\n",
    "        segments.append(temp)\n",
    "    \n",
    "    ## check\n",
    "    genLength = set([len(seq.split(\" \")) for seq in txt2seq])\n",
    "    if len(genLength) != 1: \n",
    "        print(genLength)\n",
    "        raise Exception(\"--- texts are not of same size ---\")\n",
    "\n",
    "    X = [np.asarray(idx, dtype='int32'), np.asarray(masks, dtype='int32'), np.asarray(segments, dtype='int32')]\n",
    "    print(\"created tensor idx-masks-segments:\", str(len(X))+\"x \"+str(X[0].shape))\n",
    "    return X"
   ]
  },
  {
   "cell_type": "code",
   "execution_count": 39,
   "id": "4b6299ab",
   "metadata": {},
   "outputs": [
    {
     "name": "stdout",
     "output_type": "stream",
     "text": [
      "maxlen: 50\n",
      "created tensor idx-masks-segments: 3x (1600, 52)\n",
      "maxlen: 50\n",
      "created tensor idx-masks-segments: 3x (400, 52)\n"
     ]
    }
   ],
   "source": [
    "x_bert_train = tokenize_bert(corpus=x_train, maxlen=50)\n",
    "x_bert_test = tokenize_bert(corpus=x_test, maxlen=50)"
   ]
  },
  {
   "cell_type": "code",
   "execution_count": 41,
   "id": "6853f03b",
   "metadata": {},
   "outputs": [],
   "source": [
    "x_bert_train[0] = x_bert_train[0][:,:50]\n",
    "x_bert_test[0] = x_bert_test[0][:,:50]"
   ]
  },
  {
   "cell_type": "code",
   "execution_count": 47,
   "id": "1dd5f2df",
   "metadata": {},
   "outputs": [
    {
     "data": {
      "application/vnd.jupyter.widget-view+json": {
       "model_id": "66f24a42a4a3471f983cee3d58533b14",
       "version_major": 2,
       "version_minor": 0
      },
      "text/plain": [
       "Downloading:   0%|          | 0.00/347M [00:00<?, ?B/s]"
      ]
     },
     "metadata": {},
     "output_type": "display_data"
    },
    {
     "name": "stderr",
     "output_type": "stream",
     "text": [
      "Some layers from the model checkpoint at distilbert-base-uncased were not used when initializing TFDistilBertModel: ['vocab_transform', 'vocab_layer_norm', 'activation_13', 'vocab_projector']\n",
      "- This IS expected if you are initializing TFDistilBertModel from the checkpoint of a model trained on another task or with another architecture (e.g. initializing a BertForSequenceClassification model from a BertForPreTraining model).\n",
      "- This IS NOT expected if you are initializing TFDistilBertModel from the checkpoint of a model that you expect to be exactly identical (initializing a BertForSequenceClassification model from a BertForSequenceClassification model).\n",
      "All the layers of TFDistilBertModel were initialized from the model checkpoint at distilbert-base-uncased.\n",
      "If your task is similar to the task the model of the checkpoint was trained on, you can already use TFDistilBertModel for predictions without further training.\n"
     ]
    },
    {
     "name": "stdout",
     "output_type": "stream",
     "text": [
      "Model: \"model\"\n",
      "__________________________________________________________________________________________________\n",
      " Layer (type)                   Output Shape         Param #     Connected to                     \n",
      "==================================================================================================\n",
      " input_idx (InputLayer)         [(None, 50)]         0           []                               \n",
      "                                                                                                  \n",
      " input_masks (InputLayer)       [(None, 50)]         0           []                               \n",
      "                                                                                                  \n",
      " tf_distil_bert_model (TFDistil  TFBaseModelOutput(l  66362880   ['input_idx[0][0]',              \n",
      " BertModel)                     ast_hidden_state=(N               'input_masks[0][0]']            \n",
      "                                one, 50, 768),                                                    \n",
      "                                 hidden_states=None                                               \n",
      "                                , attentions=None)                                                \n",
      "                                                                                                  \n",
      " global_average_pooling1d (Glob  (None, 768)         0           ['tf_distil_bert_model[0][0]']   \n",
      " alAveragePooling1D)                                                                              \n",
      "                                                                                                  \n",
      " dense (Dense)                  (None, 64)           49216       ['global_average_pooling1d[0][0]'\n",
      "                                                                 ]                                \n",
      "                                                                                                  \n",
      " dense_1 (Dense)                (None, 2)            130         ['dense[0][0]']                  \n",
      "                                                                                                  \n",
      "==================================================================================================\n",
      "Total params: 66,412,226\n",
      "Trainable params: 49,346\n",
      "Non-trainable params: 66,362,880\n",
      "__________________________________________________________________________________________________\n"
     ]
    }
   ],
   "source": [
    "idx = layers.Input((50), dtype=\"int32\", name=\"input_idx\")\n",
    "masks = layers.Input((50), dtype=\"int32\", name=\"input_masks\")\n",
    "## pre-trained bert with config\n",
    "config = transformers.DistilBertConfig(dropout=0.2, attention_dropout=0.2)\n",
    "config.output_hidden_states = False\n",
    "nlp = transformers.TFDistilBertModel.from_pretrained('distilbert-base-uncased', config=config)\n",
    "bert_out = nlp(idx, attention_mask=masks)[0]\n",
    "## fine-tuning\n",
    "x = layers.GlobalAveragePooling1D()(bert_out)\n",
    "x = layers.Dense(64, activation=\"relu\")(x)\n",
    "y_out = layers.Dense(len(np.unique(y_train)), activation='softmax')(x)\n",
    "## compile\n",
    "model = models.Model([idx, masks], y_out)\n",
    "for layer in model.layers[:3]:\n",
    "    layer.trainable = False\n",
    "model.compile(loss='sparse_categorical_crossentropy', optimizer='adam', metrics=['accuracy'])\n",
    "\n",
    "model.summary()"
   ]
  },
  {
   "cell_type": "code",
   "execution_count": 48,
   "id": "f94e8b3a",
   "metadata": {},
   "outputs": [
    {
     "name": "stdout",
     "output_type": "stream",
     "text": [
      "Epoch 1/10\n",
      "20/20 [==============================] - 40s 2s/step - loss: 0.2241 - accuracy: 0.9211 - val_loss: 0.1657 - val_accuracy: 0.9656\n",
      "Epoch 2/10\n",
      "20/20 [==============================] - 38s 2s/step - loss: 0.1540 - accuracy: 0.9664 - val_loss: 0.1497 - val_accuracy: 0.9656\n",
      "Epoch 3/10\n",
      "20/20 [==============================] - 37s 2s/step - loss: 0.1474 - accuracy: 0.9664 - val_loss: 0.1498 - val_accuracy: 0.9656\n",
      "Epoch 4/10\n",
      "20/20 [==============================] - 43s 2s/step - loss: 0.1471 - accuracy: 0.9664 - val_loss: 0.1499 - val_accuracy: 0.9656\n",
      "Epoch 5/10\n",
      "20/20 [==============================] - 38s 2s/step - loss: 0.1463 - accuracy: 0.9664 - val_loss: 0.1502 - val_accuracy: 0.9656\n",
      "Epoch 6/10\n",
      "20/20 [==============================] - 38s 2s/step - loss: 0.1464 - accuracy: 0.9664 - val_loss: 0.1504 - val_accuracy: 0.9656\n",
      "Epoch 7/10\n",
      "20/20 [==============================] - 41s 2s/step - loss: 0.1450 - accuracy: 0.9664 - val_loss: 0.1514 - val_accuracy: 0.9656\n",
      "Epoch 8/10\n",
      "20/20 [==============================] - 41s 2s/step - loss: 0.1481 - accuracy: 0.9664 - val_loss: 0.1510 - val_accuracy: 0.9656\n",
      "Epoch 9/10\n",
      "20/20 [==============================] - 47s 2s/step - loss: 0.1461 - accuracy: 0.9664 - val_loss: 0.1516 - val_accuracy: 0.9656\n",
      "Epoch 10/10\n",
      "20/20 [==============================] - 42s 2s/step - loss: 0.1455 - accuracy: 0.9664 - val_loss: 0.1555 - val_accuracy: 0.9656\n"
     ]
    }
   ],
   "source": [
    "dic_y_mapping = {n:label for n,label in enumerate(np.unique(y_train))}\n",
    "inverse_dic = {v:k for k,v in dic_y_mapping.items()}\n",
    "y_train = np.array( [inverse_dic[y] for y in y_train])\n",
    "    \n",
    "history = model.fit(x=x_bert_train[:2], y=y_train, batch_size=64, epochs=10, validation_split=0.2)"
   ]
  },
  {
   "cell_type": "code",
   "execution_count": 50,
   "id": "b92c71c2",
   "metadata": {},
   "outputs": [
    {
     "data": {
      "image/png": "[encoded data removed]",
      "text/plain": [
       "<Figure size 1080x576 with 2 Axes>"
      ]
     },
     "metadata": {
      "needs_background": "light"
     },
     "output_type": "display_data"
    }
   ],
   "source": [
    "def plot_accuracy_and_loss_of_train_and_validation_dataset(history):\n",
    "    train_acc=history.history['accuracy']\n",
    "    train_loss=history.history['loss']\n",
    "    val_acc=history.history['val_accuracy']\n",
    "    val_loss=history.history['val_loss']\n",
    "    epoch=[i for i in range(len(train_acc))]\n",
    "    fig , ax=plt.subplots(1,2)\n",
    "    fig.set_size_inches(15,8)\n",
    "    ax[0].plot(epoch,train_acc,'co-',label='training accuracy')\n",
    "    ax[0].plot(epoch,val_acc,'mo-',label='validation accuracy')\n",
    "    ax[0].set_title('Training & Validation Accuracy')\n",
    "    ax[0].legend()\n",
    "    ax[0].set_xlabel(\"Epochs\")\n",
    "    ax[0].set_ylabel(\"Accuracy\")\n",
    "    ax[1].plot(epoch,train_loss,'c-o',label='training loss')\n",
    "    ax[1].plot(epoch,val_loss,'m-o',label='validation loss')\n",
    "    ax[1].set_title('Training & Validation loss')\n",
    "    ax[1].legend()\n",
    "    ax[1].set_xlabel(\"Epochs\")\n",
    "    ax[1].set_ylabel(\"Training & Validation Loss\")\n",
    "\n",
    "# incase of early stop\n",
    "plot_accuracy_and_loss_of_train_and_validation_dataset(history)"
   ]
  },
  {
   "cell_type": "code",
   "execution_count": 55,
   "id": "851e08c6",
   "metadata": {},
   "outputs": [
    {
     "name": "stdout",
     "output_type": "stream",
     "text": [
      "50/50 [==============================] - 33s 645ms/step - loss: 0.1498 - accuracy: 0.9663\n",
      "The accuracy of train text is :  0.9662500023841858\n"
     ]
    }
   ],
   "source": [
    "#model = keras.models.load_model(model_file) # rollback to best model\n",
    "loss,accuracy = model.evaluate(x_bert_train[:2],y_train)\n",
    "print(\"The accuracy of train text is : \",accuracy)"
   ]
  },
  {
   "cell_type": "code",
   "execution_count": 65,
   "id": "db4a0a3a",
   "metadata": {},
   "outputs": [
    {
     "name": "stdout",
     "output_type": "stream",
     "text": [
      "Predicting Test data using the above Trained model...\n"
     ]
    }
   ],
   "source": [
    "print(\"Predicting Test data using the above Trained model...\")\n",
    "predicted_prob = model.predict(x_bert_test[:2])\n",
    "predicted = [dic_y_mapping[np.argmax(pred)] for pred in predicted_prob]"
   ]
  },
  {
   "cell_type": "code",
   "execution_count": 68,
   "id": "f5aaba47",
   "metadata": {},
   "outputs": [],
   "source": [
    "class_names = ['Normal','Anomaly']"
   ]
  },
  {
   "cell_type": "code",
   "execution_count": 71,
   "id": "a95156fa",
   "metadata": {},
   "outputs": [
    {
     "name": "stdout",
     "output_type": "stream",
     "text": [
      "              precision    recall  f1-score   support\n",
      "\n",
      "      Normal       0.96      1.00      0.98       385\n",
      "     Anomaly       0.00      0.00      0.00        15\n",
      "\n",
      "    accuracy                           0.96       400\n",
      "   macro avg       0.48      0.50      0.49       400\n",
      "weighted avg       0.93      0.96      0.94       400\n",
      "\n"
     ]
    }
   ],
   "source": [
    "print(classification_report(y_test, predicted,target_names=class_names))"
   ]
  },
  {
   "cell_type": "code",
   "execution_count": 80,
   "id": "a7ec7606",
   "metadata": {},
   "outputs": [
    {
     "data": {
      "image/png": "[encoded data removed]",
      "text/plain": [
       "<Figure size 360x360 with 1 Axes>"
      ]
     },
     "metadata": {
      "needs_background": "light"
     },
     "output_type": "display_data"
    }
   ],
   "source": [
    "CM = confusion_matrix(y_test, predicted)\n",
    "# Plot confusion matrix\n",
    "plt.figure(figsize = (5,5))\n",
    "plt.imshow(CM,interpolation='nearest',cmap='summer')\n",
    "for (i, j), z in np.ndenumerate(CM):\n",
    "    plt.text(j, i, z, ha='center', va='center')\n",
    "plt.xlabel(\"Predictions\")\n",
    "plt.ylabel(\"Actual\")\n",
    "plt.grid(False)\n",
    "plt.show()"
   ]
  },
  {
   "cell_type": "markdown",
   "id": "2b58d953",
   "metadata": {},
   "source": [
    "### Solving Data Imbalance "
   ]
  },
  {
   "cell_type": "code",
   "execution_count": 113,
   "id": "1e502e2a",
   "metadata": {},
   "outputs": [
    {
     "name": "stdout",
     "output_type": "stream",
     "text": [
      "Original dataset shape (1600, 50)\n",
      "Resample dataset shape (3092, 50)\n"
     ]
    }
   ],
   "source": [
    "# import library\n",
    "from imblearn.over_sampling import SMOTE\n",
    "from collections import Counter\n",
    "\n",
    "smote = SMOTE()\n",
    "\n",
    "# fit predictor and target variable\n",
    "x_smote, y_smote = smote.fit_resample(x_bert_train[0], y_train)\n",
    "\n",
    "print('Original dataset shape', x_bert_train[0].shape)\n",
    "print('Resample dataset shape', x_smote.shape)"
   ]
  },
  {
   "cell_type": "code",
   "execution_count": 115,
   "id": "788600bc",
   "metadata": {},
   "outputs": [
    {
     "data": {
      "image/png": "[encoded data removed]",
      "text/plain": [
       "<Figure size 720x360 with 1 Axes>"
      ]
     },
     "metadata": {
      "needs_background": "light"
     },
     "output_type": "display_data"
    }
   ],
   "source": [
    "fig = plt.figure(figsize =(10,5))\n",
    "ax = fig.add_axes([0,0,1,1])\n",
    "def add_value_label(x_list,y_list):\n",
    "    for i in range(1, len(x_list)+1):\n",
    "        plt.text(i-1,y_list[i-1],y_list[i-1],ha=\"center\",fontsize=12,fontweight=\"bold\")\n",
    "y_count = np.bincount(y_smote)\n",
    "labels = ['0', '1']\n",
    "ax.bar(labels,y_count)\n",
    "add_value_label(labels,y_count)\n",
    "ax.set_xlabel('Class')\n",
    "ax.set_ylabel('Log count')\n",
    "ax.set_title('No of logs in both classes')\n",
    "plt.show()"
   ]
  },
  {
   "cell_type": "code",
   "execution_count": null,
   "id": "351ab647",
   "metadata": {},
   "outputs": [],
   "source": []
  }
 ],
 "metadata": {
  "kernelspec": {
   "display_name": "Python 3 (ipykernel)",
   "language": "python",
   "name": "python3"
  },
  "language_info": {
   "codemirror_mode": {
    "name": "ipython",
    "version": 3
   },
   "file_extension": ".py",
   "mimetype": "text/x-python",
   "name": "python",
   "nbconvert_exporter": "python",
   "pygments_lexer": "ipython3",
   "version": "3.10.7"
  }
 },
 "nbformat": 4,
 "nbformat_minor": 5
}
