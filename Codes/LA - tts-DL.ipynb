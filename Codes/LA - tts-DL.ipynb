{
 "cells": [
  {
   "cell_type": "code",
   "execution_count": 1,
   "metadata": {
    "_cell_guid": "b1076dfc-b9ad-4769-8c92-a6c4dae69d19",
    "_uuid": "8f2839f25d086af736a60e9eeb907d3b93b6e0e5",
    "execution": {
     "iopub.execute_input": "2022-11-06T08:27:11.053284Z",
     "iopub.status.busy": "2022-11-06T08:27:11.052291Z",
     "iopub.status.idle": "2022-11-06T08:27:11.092988Z",
     "shell.execute_reply": "2022-11-06T08:27:11.092034Z",
     "shell.execute_reply.started": "2022-11-06T08:27:11.053162Z"
    }
   },
   "outputs": [
    {
     "name": "stdout",
     "output_type": "stream",
     "text": [
      "/kaggle/input/cleaned/cleaned_data_100.csv\n"
     ]
    }
   ],
   "source": [
    "# This Python 3 environment comes with many helpful analytics libraries installed\n",
    "# It is defined by the kaggle/python Docker image: https://github.com/kaggle/docker-python\n",
    "# For example, here's several helpful packages to load\n",
    "\n",
    "import numpy as np # linear algebra\n",
    "import pandas as pd # data processing, CSV file I/O (e.g. pd.read_csv)\n",
    "\n",
    "# Input data files are available in the read-only \"../input/\" directory\n",
    "# For example, running this (by clicking run or pressing Shift+Enter) will list all files under the input directory\n",
    "\n",
    "import os\n",
    "for dirname, _, filenames in os.walk('/kaggle/input'):\n",
    "    for filename in filenames:\n",
    "        print(os.path.join(dirname, filename))\n",
    "\n",
    "# You can write up to 20GB to the current directory (/kaggle/working/) that gets preserved as output when you create a version using \"Save & Run All\" \n",
    "# You can also write temporary files to /kaggle/temp/, but they won't be saved outside of the current session"
   ]
  },
  {
   "cell_type": "code",
   "execution_count": 23,
   "metadata": {
    "execution": {
     "iopub.execute_input": "2022-11-06T08:38:26.252851Z",
     "iopub.status.busy": "2022-11-06T08:38:26.252327Z",
     "iopub.status.idle": "2022-11-06T08:38:26.267492Z",
     "shell.execute_reply": "2022-11-06T08:38:26.266236Z",
     "shell.execute_reply.started": "2022-11-06T08:38:26.252704Z"
    }
   },
   "outputs": [],
   "source": [
    "import tensorflow as tf\n",
    "import numpy as np\n",
    "from keras.layers import Embedding, Conv1D, MaxPooling1D\n",
    "from keras.layers import Flatten, Dropout, Dense\n",
    "import torch\n",
    "from keras.models import Sequential\n",
    "from torch.autograd import Variable\n",
    "from torch import IntTensor\n",
    "from sklearn.model_selection import train_test_split\n",
    "from sklearn.metrics import accuracy_score, confusion_matrix, classification_report\n",
    "\n",
    "import re\n",
    "import string\n",
    "import itertools\n",
    "import collections\n",
    "import pandas as pd\n",
    "from nltk import word_tokenize, pos_tag\n",
    "import warnings\n",
    "from collections import defaultdict, Counter\n",
    "from sklearn.preprocessing import LabelEncoder\n",
    "warnings.filterwarnings(\"ignore\")\n",
    "from sklearn.metrics import classification_report\n",
    "from sklearn.metrics import precision_recall_fscore_support\n",
    "from nltk.probability import FreqDist"
   ]
  },
  {
   "cell_type": "code",
   "execution_count": 3,
   "metadata": {
    "execution": {
     "iopub.execute_input": "2022-11-06T08:27:21.585686Z",
     "iopub.status.busy": "2022-11-06T08:27:21.585146Z",
     "iopub.status.idle": "2022-11-06T08:27:21.807832Z",
     "shell.execute_reply": "2022-11-06T08:27:21.806752Z",
     "shell.execute_reply.started": "2022-11-06T08:27:21.585650Z"
    }
   },
   "outputs": [
    {
     "name": "stderr",
     "output_type": "stream",
     "text": [
      "[nltk_data] Downloading package punkt to /usr/share/nltk_data...\n",
      "[nltk_data]   Package punkt is already up-to-date!\n"
     ]
    },
    {
     "data": {
      "text/plain": [
       "True"
      ]
     },
     "execution_count": 3,
     "metadata": {},
     "output_type": "execute_result"
    }
   ],
   "source": [
    "import nltk\n",
    "nltk.download('punkt')\n"
   ]
  },
  {
   "cell_type": "code",
   "execution_count": 4,
   "metadata": {
    "execution": {
     "iopub.execute_input": "2022-11-06T08:27:21.811035Z",
     "iopub.status.busy": "2022-11-06T08:27:21.810668Z",
     "iopub.status.idle": "2022-11-06T08:27:22.380227Z",
     "shell.execute_reply": "2022-11-06T08:27:22.379232Z",
     "shell.execute_reply.started": "2022-11-06T08:27:21.810998Z"
    }
   },
   "outputs": [],
   "source": [
    "import pandas as pd\n",
    "data = pd.read_csv(\"../input/cleaned/cleaned_data_100.csv\")\n",
    "data['X_data'] = data['X_data'].apply(lambda s: s.split(' ', 1)[1])\n"
   ]
  },
  {
   "cell_type": "code",
   "execution_count": 5,
   "metadata": {
    "execution": {
     "iopub.execute_input": "2022-11-06T08:27:22.381884Z",
     "iopub.status.busy": "2022-11-06T08:27:22.381530Z",
     "iopub.status.idle": "2022-11-06T08:27:22.400175Z",
     "shell.execute_reply": "2022-11-06T08:27:22.399365Z",
     "shell.execute_reply.started": "2022-11-06T08:27:22.381849Z"
    }
   },
   "outputs": [
    {
     "data": {
      "text/html": [
       "<div>\n",
       "<style scoped>\n",
       "    .dataframe tbody tr th:only-of-type {\n",
       "        vertical-align: middle;\n",
       "    }\n",
       "\n",
       "    .dataframe tbody tr th {\n",
       "        vertical-align: top;\n",
       "    }\n",
       "\n",
       "    .dataframe thead th {\n",
       "        text-align: right;\n",
       "    }\n",
       "</style>\n",
       "<table border=\"1\" class=\"dataframe\">\n",
       "  <thead>\n",
       "    <tr style=\"text-align: right;\">\n",
       "      <th></th>\n",
       "      <th>X_data</th>\n",
       "      <th>Y_data</th>\n",
       "    </tr>\n",
       "  </thead>\n",
       "  <tbody>\n",
       "    <tr>\n",
       "      <th>0</th>\n",
       "      <td>203518 143 INFO dfs DataNode DataXceiver Recei...</td>\n",
       "      <td>0</td>\n",
       "    </tr>\n",
       "    <tr>\n",
       "      <th>1</th>\n",
       "      <td>203518 35 INFO dfs FSNamesystem BLOCK NameSyst...</td>\n",
       "      <td>0</td>\n",
       "    </tr>\n",
       "    <tr>\n",
       "      <th>2</th>\n",
       "      <td>203519 143 INFO dfs DataNode DataXceiver Recei...</td>\n",
       "      <td>0</td>\n",
       "    </tr>\n",
       "    <tr>\n",
       "      <th>3</th>\n",
       "      <td>203519 145 INFO dfs DataNode DataXceiver Recei...</td>\n",
       "      <td>0</td>\n",
       "    </tr>\n",
       "    <tr>\n",
       "      <th>4</th>\n",
       "      <td>203519 145 INFO dfs DataNode PacketResponder P...</td>\n",
       "      <td>0</td>\n",
       "    </tr>\n",
       "    <tr>\n",
       "      <th>...</th>\n",
       "      <td>...</td>\n",
       "      <td>...</td>\n",
       "    </tr>\n",
       "    <tr>\n",
       "      <th>104810</th>\n",
       "      <td>210122 13 INFO dfs DataBlockScanner Verificati...</td>\n",
       "      <td>0</td>\n",
       "    </tr>\n",
       "    <tr>\n",
       "      <th>104811</th>\n",
       "      <td>210124 13 INFO dfs DataBlockScanner Verificati...</td>\n",
       "      <td>0</td>\n",
       "    </tr>\n",
       "    <tr>\n",
       "      <th>104812</th>\n",
       "      <td>210126 13 INFO dfs DataBlockScanner Verificati...</td>\n",
       "      <td>0</td>\n",
       "    </tr>\n",
       "    <tr>\n",
       "      <th>104813</th>\n",
       "      <td>210126 13 INFO dfs DataBlockScanner Verificati...</td>\n",
       "      <td>0</td>\n",
       "    </tr>\n",
       "    <tr>\n",
       "      <th>104814</th>\n",
       "      <td>210126 13 INFO dfs DataBlockScanner Verificati...</td>\n",
       "      <td>0</td>\n",
       "    </tr>\n",
       "  </tbody>\n",
       "</table>\n",
       "<p>104815 rows × 2 columns</p>\n",
       "</div>"
      ],
      "text/plain": [
       "                                                   X_data  Y_data\n",
       "0       203518 143 INFO dfs DataNode DataXceiver Recei...       0\n",
       "1       203518 35 INFO dfs FSNamesystem BLOCK NameSyst...       0\n",
       "2       203519 143 INFO dfs DataNode DataXceiver Recei...       0\n",
       "3       203519 145 INFO dfs DataNode DataXceiver Recei...       0\n",
       "4       203519 145 INFO dfs DataNode PacketResponder P...       0\n",
       "...                                                   ...     ...\n",
       "104810  210122 13 INFO dfs DataBlockScanner Verificati...       0\n",
       "104811  210124 13 INFO dfs DataBlockScanner Verificati...       0\n",
       "104812  210126 13 INFO dfs DataBlockScanner Verificati...       0\n",
       "104813  210126 13 INFO dfs DataBlockScanner Verificati...       0\n",
       "104814  210126 13 INFO dfs DataBlockScanner Verificati...       0\n",
       "\n",
       "[104815 rows x 2 columns]"
      ]
     },
     "execution_count": 5,
     "metadata": {},
     "output_type": "execute_result"
    }
   ],
   "source": [
    "data"
   ]
  },
  {
   "cell_type": "code",
   "execution_count": 6,
   "metadata": {
    "execution": {
     "iopub.execute_input": "2022-11-06T08:27:22.402091Z",
     "iopub.status.busy": "2022-11-06T08:27:22.401743Z",
     "iopub.status.idle": "2022-11-06T08:27:22.415338Z",
     "shell.execute_reply": "2022-11-06T08:27:22.414062Z",
     "shell.execute_reply.started": "2022-11-06T08:27:22.402055Z"
    }
   },
   "outputs": [],
   "source": [
    "X = list(data['X_data'])"
   ]
  },
  {
   "cell_type": "code",
   "execution_count": 7,
   "metadata": {
    "execution": {
     "iopub.execute_input": "2022-11-06T08:27:22.417388Z",
     "iopub.status.busy": "2022-11-06T08:27:22.416979Z",
     "iopub.status.idle": "2022-11-06T08:27:38.758319Z",
     "shell.execute_reply": "2022-11-06T08:27:38.757388Z",
     "shell.execute_reply.started": "2022-11-06T08:27:22.417352Z"
    }
   },
   "outputs": [],
   "source": [
    "words_in_train = [sent.split() for sent in X] # Splitting the tweet into tokens\n",
    "all_words_train = list(itertools.chain(*words_in_train)) # Making a flatlist of all the words in the corpus\n",
    "all_words = all_words_train  \n",
    "corpus = X  \n",
    "vocab_size = len(set(all_words)) # number of words to keep.\n",
    "embedding_dim = 100 # Dimension of the vector representation for each word \n",
    "max_length = 0\n",
    "for i in range(len(corpus)):\n",
    "    x = word_tokenize(corpus[i])\n",
    "    if len(x) > max_length:\n",
    "        max_length = len(x)"
   ]
  },
  {
   "cell_type": "code",
   "execution_count": 8,
   "metadata": {
    "execution": {
     "iopub.execute_input": "2022-11-06T08:27:38.760061Z",
     "iopub.status.busy": "2022-11-06T08:27:38.759623Z",
     "iopub.status.idle": "2022-11-06T08:27:38.767012Z",
     "shell.execute_reply": "2022-11-06T08:27:38.766066Z",
     "shell.execute_reply.started": "2022-11-06T08:27:38.760024Z"
    }
   },
   "outputs": [
    {
     "name": "stdout",
     "output_type": "stream",
     "text": [
      "Max length of the sequence : 46\n",
      "Size of the vocabulary : 28048\n"
     ]
    }
   ],
   "source": [
    "print(\"Max length of the sequence :\",max_length)\n",
    "print(\"Size of the vocabulary :\",vocab_size)"
   ]
  },
  {
   "cell_type": "code",
   "execution_count": 9,
   "metadata": {
    "execution": {
     "iopub.execute_input": "2022-11-06T08:27:38.769390Z",
     "iopub.status.busy": "2022-11-06T08:27:38.768363Z",
     "iopub.status.idle": "2022-11-06T08:27:41.467645Z",
     "shell.execute_reply": "2022-11-06T08:27:41.466487Z",
     "shell.execute_reply.started": "2022-11-06T08:27:38.769353Z"
    }
   },
   "outputs": [],
   "source": [
    "tokenizer = tf.keras.preprocessing.text.Tokenizer(num_words = vocab_size, oov_token=\"<OOV>\")\n",
    "tokenizer.fit_on_texts(data['X_data'])\n",
    "word_index = tokenizer.word_index"
   ]
  },
  {
   "cell_type": "code",
   "execution_count": 10,
   "metadata": {
    "execution": {
     "iopub.execute_input": "2022-11-06T08:27:41.471848Z",
     "iopub.status.busy": "2022-11-06T08:27:41.471445Z",
     "iopub.status.idle": "2022-11-06T08:27:43.978491Z",
     "shell.execute_reply": "2022-11-06T08:27:43.977501Z",
     "shell.execute_reply.started": "2022-11-06T08:27:41.471809Z"
    }
   },
   "outputs": [],
   "source": [
    "# Pad the sequences so that they are all the same length\n",
    "training_sequences = tokenizer.texts_to_sequences(data['X_data'])\n",
    "trainds_vec = tf.keras.preprocessing.sequence.pad_sequences(training_sequences,maxlen=max_length, padding='post')"
   ]
  },
  {
   "cell_type": "code",
   "execution_count": 11,
   "metadata": {
    "execution": {
     "iopub.execute_input": "2022-11-06T08:27:43.980469Z",
     "iopub.status.busy": "2022-11-06T08:27:43.980060Z",
     "iopub.status.idle": "2022-11-06T08:27:44.586120Z",
     "shell.execute_reply": "2022-11-06T08:27:44.585124Z",
     "shell.execute_reply.started": "2022-11-06T08:27:43.980430Z"
    }
   },
   "outputs": [
    {
     "name": "stdout",
     "output_type": "stream",
     "text": [
      "Original dataset shape (104815, 46)\n",
      "Resample dataset shape (203088, 46)\n"
     ]
    }
   ],
   "source": [
    "# import library\n",
    "from imblearn.over_sampling import SMOTE\n",
    "from collections import Counter\n",
    "\n",
    "smote = SMOTE()\n",
    "\n",
    "# fit predictor and target variable\n",
    "x_smote, y_smote = smote.fit_resample(np.array(trainds_vec), data['Y_data'])\n",
    "print('Original dataset shape', np.array(trainds_vec).shape)\n",
    "print('Resample dataset shape', x_smote.shape)\n"
   ]
  },
  {
   "cell_type": "code",
   "execution_count": 12,
   "metadata": {
    "execution": {
     "iopub.execute_input": "2022-11-06T08:27:44.588851Z",
     "iopub.status.busy": "2022-11-06T08:27:44.588257Z",
     "iopub.status.idle": "2022-11-06T08:27:44.626304Z",
     "shell.execute_reply": "2022-11-06T08:27:44.625291Z",
     "shell.execute_reply.started": "2022-11-06T08:27:44.588814Z"
    }
   },
   "outputs": [],
   "source": [
    "X_train,X_test,Y_train,Y_test = train_test_split(x_smote,y_smote,test_size=0.2)"
   ]
  },
  {
   "cell_type": "code",
   "execution_count": 13,
   "metadata": {
    "execution": {
     "iopub.execute_input": "2022-11-06T08:27:44.628327Z",
     "iopub.status.busy": "2022-11-06T08:27:44.627906Z",
     "iopub.status.idle": "2022-11-06T08:27:44.636398Z",
     "shell.execute_reply": "2022-11-06T08:27:44.635415Z",
     "shell.execute_reply.started": "2022-11-06T08:27:44.628278Z"
    }
   },
   "outputs": [],
   "source": [
    "Training_labels = tf.keras.utils.to_categorical(Y_train)\n",
    "Testing_labels = tf.keras.utils.to_categorical(Y_test)"
   ]
  },
  {
   "cell_type": "code",
   "execution_count": 14,
   "metadata": {
    "execution": {
     "iopub.execute_input": "2022-11-06T08:27:44.638536Z",
     "iopub.status.busy": "2022-11-06T08:27:44.638113Z",
     "iopub.status.idle": "2022-11-06T08:27:44.672963Z",
     "shell.execute_reply": "2022-11-06T08:27:44.672056Z",
     "shell.execute_reply.started": "2022-11-06T08:27:44.638475Z"
    }
   },
   "outputs": [],
   "source": [
    "X_train1,X_test1,Y_train1,Y_test1 = train_test_split(np.array(trainds_vec),data['Y_data'],test_size=0.2)\n",
    "Training_labels1 = tf.keras.utils.to_categorical(Y_train1)\n",
    "Testing_labels1 = tf.keras.utils.to_categorical(Y_test1)"
   ]
  },
  {
   "cell_type": "code",
   "execution_count": 15,
   "metadata": {
    "execution": {
     "iopub.execute_input": "2022-11-06T08:27:44.674876Z",
     "iopub.status.busy": "2022-11-06T08:27:44.674483Z",
     "iopub.status.idle": "2022-11-06T08:27:53.037928Z",
     "shell.execute_reply": "2022-11-06T08:27:53.037000Z",
     "shell.execute_reply.started": "2022-11-06T08:27:44.674838Z"
    }
   },
   "outputs": [
    {
     "name": "stderr",
     "output_type": "stream",
     "text": [
      "2022-11-06 08:27:44.822571: I tensorflow/stream_executor/cuda/cuda_gpu_executor.cc:937] successful NUMA node read from SysFS had negative value (-1), but there must be at least one NUMA node, so returning NUMA node zero\n",
      "2022-11-06 08:27:44.823482: I tensorflow/stream_executor/cuda/cuda_gpu_executor.cc:937] successful NUMA node read from SysFS had negative value (-1), but there must be at least one NUMA node, so returning NUMA node zero\n",
      "2022-11-06 08:27:44.824475: I tensorflow/stream_executor/cuda/cuda_gpu_executor.cc:937] successful NUMA node read from SysFS had negative value (-1), but there must be at least one NUMA node, so returning NUMA node zero\n",
      "2022-11-06 08:27:44.825298: I tensorflow/stream_executor/cuda/cuda_gpu_executor.cc:937] successful NUMA node read from SysFS had negative value (-1), but there must be at least one NUMA node, so returning NUMA node zero\n",
      "2022-11-06 08:27:44.826000: I tensorflow/stream_executor/cuda/cuda_gpu_executor.cc:937] successful NUMA node read from SysFS had negative value (-1), but there must be at least one NUMA node, so returning NUMA node zero\n",
      "2022-11-06 08:27:44.826715: I tensorflow/stream_executor/cuda/cuda_gpu_executor.cc:937] successful NUMA node read from SysFS had negative value (-1), but there must be at least one NUMA node, so returning NUMA node zero\n",
      "2022-11-06 08:27:44.828326: I tensorflow/core/platform/cpu_feature_guard.cc:142] This TensorFlow binary is optimized with oneAPI Deep Neural Network Library (oneDNN) to use the following CPU instructions in performance-critical operations:  AVX2 AVX512F FMA\n",
      "To enable them in other operations, rebuild TensorFlow with the appropriate compiler flags.\n",
      "2022-11-06 08:27:45.083828: I tensorflow/stream_executor/cuda/cuda_gpu_executor.cc:937] successful NUMA node read from SysFS had negative value (-1), but there must be at least one NUMA node, so returning NUMA node zero\n",
      "2022-11-06 08:27:45.084841: I tensorflow/stream_executor/cuda/cuda_gpu_executor.cc:937] successful NUMA node read from SysFS had negative value (-1), but there must be at least one NUMA node, so returning NUMA node zero\n",
      "2022-11-06 08:27:45.085641: I tensorflow/stream_executor/cuda/cuda_gpu_executor.cc:937] successful NUMA node read from SysFS had negative value (-1), but there must be at least one NUMA node, so returning NUMA node zero\n",
      "2022-11-06 08:27:45.086354: I tensorflow/stream_executor/cuda/cuda_gpu_executor.cc:937] successful NUMA node read from SysFS had negative value (-1), but there must be at least one NUMA node, so returning NUMA node zero\n",
      "2022-11-06 08:27:45.087259: I tensorflow/stream_executor/cuda/cuda_gpu_executor.cc:937] successful NUMA node read from SysFS had negative value (-1), but there must be at least one NUMA node, so returning NUMA node zero\n",
      "2022-11-06 08:27:45.088004: I tensorflow/stream_executor/cuda/cuda_gpu_executor.cc:937] successful NUMA node read from SysFS had negative value (-1), but there must be at least one NUMA node, so returning NUMA node zero\n",
      "2022-11-06 08:27:52.681693: I tensorflow/stream_executor/cuda/cuda_gpu_executor.cc:937] successful NUMA node read from SysFS had negative value (-1), but there must be at least one NUMA node, so returning NUMA node zero\n",
      "2022-11-06 08:27:52.682657: I tensorflow/stream_executor/cuda/cuda_gpu_executor.cc:937] successful NUMA node read from SysFS had negative value (-1), but there must be at least one NUMA node, so returning NUMA node zero\n",
      "2022-11-06 08:27:52.683495: I tensorflow/stream_executor/cuda/cuda_gpu_executor.cc:937] successful NUMA node read from SysFS had negative value (-1), but there must be at least one NUMA node, so returning NUMA node zero\n",
      "2022-11-06 08:27:52.684249: I tensorflow/stream_executor/cuda/cuda_gpu_executor.cc:937] successful NUMA node read from SysFS had negative value (-1), but there must be at least one NUMA node, so returning NUMA node zero\n",
      "2022-11-06 08:27:52.685024: I tensorflow/stream_executor/cuda/cuda_gpu_executor.cc:937] successful NUMA node read from SysFS had negative value (-1), but there must be at least one NUMA node, so returning NUMA node zero\n",
      "2022-11-06 08:27:52.685714: I tensorflow/core/common_runtime/gpu/gpu_device.cc:1510] Created device /job:localhost/replica:0/task:0/device:GPU:0 with 13351 MB memory:  -> device: 0, name: Tesla T4, pci bus id: 0000:00:04.0, compute capability: 7.5\n",
      "2022-11-06 08:27:52.690705: I tensorflow/stream_executor/cuda/cuda_gpu_executor.cc:937] successful NUMA node read from SysFS had negative value (-1), but there must be at least one NUMA node, so returning NUMA node zero\n",
      "2022-11-06 08:27:52.691401: I tensorflow/core/common_runtime/gpu/gpu_device.cc:1510] Created device /job:localhost/replica:0/task:0/device:GPU:1 with 13351 MB memory:  -> device: 1, name: Tesla T4, pci bus id: 0000:00:05.0, compute capability: 7.5\n"
     ]
    }
   ],
   "source": [
    "METRICS = [\n",
    "      tf.keras.metrics.BinaryAccuracy(name='accuracy'),\n",
    "      tf.keras.metrics.Precision(name='precision'),\n",
    "      tf.keras.metrics.Recall(name='recall'),\n",
    "      tf.keras.metrics.AUC(name='auc'),\n",
    "]"
   ]
  },
  {
   "cell_type": "markdown",
   "metadata": {},
   "source": [
    "# BILSTM"
   ]
  },
  {
   "cell_type": "markdown",
   "metadata": {},
   "source": [
    "## with smote"
   ]
  },
  {
   "cell_type": "code",
   "execution_count": 25,
   "metadata": {
    "execution": {
     "iopub.execute_input": "2022-11-06T08:41:33.752770Z",
     "iopub.status.busy": "2022-11-06T08:41:33.752081Z",
     "iopub.status.idle": "2022-11-06T08:41:34.230173Z",
     "shell.execute_reply": "2022-11-06T08:41:34.229022Z",
     "shell.execute_reply.started": "2022-11-06T08:41:33.752734Z"
    }
   },
   "outputs": [
    {
     "name": "stdout",
     "output_type": "stream",
     "text": [
      "Model: \"sequential_4\"\n",
      "_________________________________________________________________\n",
      "Layer (type)                 Output Shape              Param #   \n",
      "=================================================================\n",
      "embedding_3 (Embedding)      (None, 46, 100)           2804800   \n",
      "_________________________________________________________________\n",
      "conv1d_4 (Conv1D)            (None, 46, 64)            32064     \n",
      "_________________________________________________________________\n",
      "max_pooling1d_3 (MaxPooling1 (None, 10, 64)            0         \n",
      "_________________________________________________________________\n",
      "dropout_6 (Dropout)          (None, 10, 64)            0         \n",
      "_________________________________________________________________\n",
      "bidirectional (Bidirectional (None, 100)               46000     \n",
      "_________________________________________________________________\n",
      "dense_6 (Dense)              (None, 32)                3232      \n",
      "_________________________________________________________________\n",
      "dropout_7 (Dropout)          (None, 32)                0         \n",
      "_________________________________________________________________\n",
      "dense_7 (Dense)              (None, 2)                 66        \n",
      "=================================================================\n",
      "Total params: 2,886,162\n",
      "Trainable params: 2,886,162\n",
      "Non-trainable params: 0\n",
      "_________________________________________________________________\n"
     ]
    }
   ],
   "source": [
    "filter_size = 64\n",
    "kernel_size = 5\n",
    "pool_size = 5\n",
    "\n",
    "\n",
    "model = tf.keras.Sequential([\n",
    "#    tf.keras.layers.Embedding(vocab_size, embedding_dim, input_length=max_length,\n",
    "#                              embeddings_initializer='orthogonal', embeddings_regularizer='L2'),\n",
    "    tf.keras.layers.Embedding(vocab_size, embedding_dim, input_length=max_length),\n",
    "    tf.keras.layers.Conv1D(filter_size, kernel_size, activation='relu', padding='same'),\n",
    "    tf.keras.layers.MaxPooling1D(pool_size, padding='same'),\n",
    "    tf.keras.layers.Dropout(0.2),\n",
    "    tf.keras.layers.Bidirectional(tf.keras.layers.LSTM(50)),\n",
    "    tf.keras.layers.Dense(32, activation=tf.nn.relu),\n",
    "    tf.keras.layers.Dropout(0.2),\n",
    "    tf.keras.layers.Dense(2, activation=tf.nn.softmax)\n",
    "])\n",
    "\n",
    "model.compile(\n",
    "    loss=tf.keras.losses.CategoricalCrossentropy(),\n",
    "    optimizer=tf.keras.optimizers.Adam(learning_rate=0.01),\n",
    "    metrics=METRICS\n",
    ")\n",
    "model.summary()"
   ]
  },
  {
   "cell_type": "code",
   "execution_count": 26,
   "metadata": {
    "execution": {
     "iopub.execute_input": "2022-11-06T08:41:34.841749Z",
     "iopub.status.busy": "2022-11-06T08:41:34.841119Z",
     "iopub.status.idle": "2022-11-06T08:47:56.825345Z",
     "shell.execute_reply": "2022-11-06T08:47:56.824086Z",
     "shell.execute_reply.started": "2022-11-06T08:41:34.841710Z"
    }
   },
   "outputs": [
    {
     "name": "stdout",
     "output_type": "stream",
     "text": [
      "Epoch 1/5\n",
      "1270/1270 [==============================] - 69s 54ms/step - loss: 0.1844 - accuracy: 0.9289 - precision: 0.9289 - recall: 0.9289 - auc: 0.9763 - val_loss: 0.1241 - val_accuracy: 0.9586 - val_precision: 0.9586 - val_recall: 0.9586 - val_auc: 0.9899\n",
      "Epoch 2/5\n",
      "1270/1270 [==============================] - 68s 54ms/step - loss: 0.1125 - accuracy: 0.9631 - precision: 0.9631 - recall: 0.9631 - auc: 0.9909 - val_loss: 0.1176 - val_accuracy: 0.9602 - val_precision: 0.9602 - val_recall: 0.9602 - val_auc: 0.9907\n",
      "Epoch 3/5\n",
      "1270/1270 [==============================] - 66s 52ms/step - loss: 0.1082 - accuracy: 0.9639 - precision: 0.9639 - recall: 0.9639 - auc: 0.9916 - val_loss: 0.1393 - val_accuracy: 0.9542 - val_precision: 0.9542 - val_recall: 0.9542 - val_auc: 0.9868\n",
      "Epoch 4/5\n",
      "1270/1270 [==============================] - 68s 54ms/step - loss: 0.1023 - accuracy: 0.9652 - precision: 0.9652 - recall: 0.9652 - auc: 0.9925 - val_loss: 0.1206 - val_accuracy: 0.9619 - val_precision: 0.9619 - val_recall: 0.9619 - val_auc: 0.9899\n",
      "Epoch 5/5\n",
      "1270/1270 [==============================] - 65s 51ms/step - loss: 0.0936 - accuracy: 0.9675 - precision: 0.9675 - recall: 0.9675 - auc: 0.9936 - val_loss: 0.1224 - val_accuracy: 0.9636 - val_precision: 0.9636 - val_recall: 0.9636 - val_auc: 0.9894\n"
     ]
    }
   ],
   "source": [
    "# callback = tf.keras.callbacks.EarlyStopping(monitor='val_auc', patience=10, mode='max', restore_best_weights=True)\n",
    "tf.config.run_functions_eagerly(True)\n",
    "\n",
    "num_epochs = 10\n",
    "history = model.fit(\n",
    "    X_train,\n",
    "    Training_labels,\n",
    "    epochs=num_epochs,\n",
    "    batch_size = 128,\n",
    "    validation_data=(X_test, Testing_labels)\n",
    ")"
   ]
  },
  {
   "cell_type": "code",
   "execution_count": 27,
   "metadata": {
    "execution": {
     "iopub.execute_input": "2022-11-06T08:47:56.828388Z",
     "iopub.status.busy": "2022-11-06T08:47:56.827986Z",
     "iopub.status.idle": "2022-11-06T08:48:08.905300Z",
     "shell.execute_reply": "2022-11-06T08:48:08.904216Z",
     "shell.execute_reply.started": "2022-11-06T08:47:56.828344Z"
    }
   },
   "outputs": [
    {
     "name": "stdout",
     "output_type": "stream",
     "text": [
      "[[19885   203]\n",
      " [ 1274 19256]]\n",
      "              precision    recall  f1-score   support\n",
      "\n",
      "           0       0.94      0.99      0.96     20088\n",
      "           1       0.99      0.94      0.96     20530\n",
      "\n",
      "    accuracy                           0.96     40618\n",
      "   macro avg       0.96      0.96      0.96     40618\n",
      "weighted avg       0.96      0.96      0.96     40618\n",
      "\n"
     ]
    }
   ],
   "source": [
    "predicted_prob = model.predict(X_test)\n",
    "predicted = [np.argmax(pred) for pred in predicted_prob]\n",
    "\n",
    "print(confusion_matrix(Y_test,predicted))\n",
    "print(classification_report(Y_test,predicted))"
   ]
  },
  {
   "cell_type": "markdown",
   "metadata": {},
   "source": [
    "## without smote"
   ]
  },
  {
   "cell_type": "code",
   "execution_count": 31,
   "metadata": {
    "execution": {
     "iopub.execute_input": "2022-11-06T08:54:34.745264Z",
     "iopub.status.busy": "2022-11-06T08:54:34.744861Z",
     "iopub.status.idle": "2022-11-06T08:54:35.199425Z",
     "shell.execute_reply": "2022-11-06T08:54:35.198491Z",
     "shell.execute_reply.started": "2022-11-06T08:54:34.745228Z"
    }
   },
   "outputs": [
    {
     "name": "stdout",
     "output_type": "stream",
     "text": [
      "Model: \"sequential_6\"\n",
      "_________________________________________________________________\n",
      "Layer (type)                 Output Shape              Param #   \n",
      "=================================================================\n",
      "embedding_5 (Embedding)      (None, 46, 100)           2804800   \n",
      "_________________________________________________________________\n",
      "conv1d_6 (Conv1D)            (None, 46, 64)            32064     \n",
      "_________________________________________________________________\n",
      "max_pooling1d_5 (MaxPooling1 (None, 10, 64)            0         \n",
      "_________________________________________________________________\n",
      "dropout_10 (Dropout)         (None, 10, 64)            0         \n",
      "_________________________________________________________________\n",
      "bidirectional_2 (Bidirection (None, 100)               46000     \n",
      "_________________________________________________________________\n",
      "dense_10 (Dense)             (None, 32)                3232      \n",
      "_________________________________________________________________\n",
      "dropout_11 (Dropout)         (None, 32)                0         \n",
      "_________________________________________________________________\n",
      "dense_11 (Dense)             (None, 2)                 66        \n",
      "=================================================================\n",
      "Total params: 2,886,162\n",
      "Trainable params: 2,886,162\n",
      "Non-trainable params: 0\n",
      "_________________________________________________________________\n"
     ]
    }
   ],
   "source": [
    "filter_size = 64\n",
    "kernel_size = 5\n",
    "pool_size = 5\n",
    "\n",
    "\n",
    "model = tf.keras.Sequential([\n",
    "#    tf.keras.layers.Embedding(vocab_size, embedding_dim, input_length=max_length,\n",
    "#                              embeddings_initializer='orthogonal', embeddings_regularizer='L2'),\n",
    "    tf.keras.layers.Embedding(vocab_size, embedding_dim, input_length=max_length),\n",
    "    tf.keras.layers.Conv1D(filter_size, kernel_size, activation='relu', padding='same'),\n",
    "    tf.keras.layers.MaxPooling1D(pool_size, padding='same'),\n",
    "    tf.keras.layers.Dropout(0.2),\n",
    "    tf.keras.layers.Bidirectional(tf.keras.layers.LSTM(50)),\n",
    "    tf.keras.layers.Dense(32, activation=tf.nn.relu),\n",
    "    tf.keras.layers.Dropout(0.2),\n",
    "    tf.keras.layers.Dense(2, activation=tf.nn.softmax)\n",
    "])\n",
    "\n",
    "model.compile(\n",
    "    loss=tf.keras.losses.CategoricalCrossentropy(),\n",
    "    optimizer=tf.keras.optimizers.Adam(learning_rate=0.01),\n",
    "    metrics=METRICS\n",
    ")\n",
    "model.summary()"
   ]
  },
  {
   "cell_type": "code",
   "execution_count": 32,
   "metadata": {
    "execution": {
     "iopub.execute_input": "2022-11-06T08:54:40.431580Z",
     "iopub.status.busy": "2022-11-06T08:54:40.430817Z",
     "iopub.status.idle": "2022-11-06T08:58:02.398569Z",
     "shell.execute_reply": "2022-11-06T08:58:02.397569Z",
     "shell.execute_reply.started": "2022-11-06T08:54:40.431535Z"
    }
   },
   "outputs": [
    {
     "name": "stdout",
     "output_type": "stream",
     "text": [
      "Epoch 1/5\n",
      "656/656 [==============================] - 34s 52ms/step - loss: 0.0712 - accuracy: 0.9856 - precision: 0.9856 - recall: 0.9856 - auc: 0.9955 - val_loss: 0.0118 - val_accuracy: 0.9977 - val_precision: 0.9977 - val_recall: 0.9977 - val_auc: 0.9991\n",
      "Epoch 2/5\n",
      "656/656 [==============================] - 35s 54ms/step - loss: 0.0076 - accuracy: 0.9986 - precision: 0.9986 - recall: 0.9986 - auc: 0.9994 - val_loss: 0.0070 - val_accuracy: 0.9988 - val_precision: 0.9988 - val_recall: 0.9988 - val_auc: 0.9994\n",
      "Epoch 3/5\n",
      "656/656 [==============================] - 35s 54ms/step - loss: 0.0040 - accuracy: 0.9993 - precision: 0.9993 - recall: 0.9993 - auc: 0.9997 - val_loss: 0.0111 - val_accuracy: 0.9983 - val_precision: 0.9983 - val_recall: 0.9983 - val_auc: 0.9993\n",
      "Epoch 4/5\n",
      "656/656 [==============================] - 34s 52ms/step - loss: 0.0034 - accuracy: 0.9992 - precision: 0.9992 - recall: 0.9992 - auc: 0.9999 - val_loss: 0.0094 - val_accuracy: 0.9985 - val_precision: 0.9985 - val_recall: 0.9985 - val_auc: 0.9993\n",
      "Epoch 5/5\n",
      "656/656 [==============================] - 35s 54ms/step - loss: 0.0078 - accuracy: 0.9982 - precision: 0.9982 - recall: 0.9982 - auc: 0.9997 - val_loss: 0.0119 - val_accuracy: 0.9975 - val_precision: 0.9975 - val_recall: 0.9975 - val_auc: 0.9992\n"
     ]
    }
   ],
   "source": [
    "# callback = tf.keras.callbacks.EarlyStopping(monitor='val_auc', patience=10, mode='max', restore_best_weights=True)\n",
    "tf.config.run_functions_eagerly(True)\n",
    "\n",
    "num_epochs = 5\n",
    "history = model.fit(\n",
    "    X_train1,\n",
    "    Training_labels1,\n",
    "    epochs=num_epochs,\n",
    "    batch_size = 128,\n",
    "    validation_data=(X_test1, Testing_labels1)\n",
    ")"
   ]
  },
  {
   "cell_type": "code",
   "execution_count": 34,
   "metadata": {
    "execution": {
     "iopub.execute_input": "2022-11-06T08:59:18.042901Z",
     "iopub.status.busy": "2022-11-06T08:59:18.042547Z",
     "iopub.status.idle": "2022-11-06T08:59:24.431362Z",
     "shell.execute_reply": "2022-11-06T08:59:24.430253Z",
     "shell.execute_reply.started": "2022-11-06T08:59:18.042872Z"
    }
   },
   "outputs": [
    {
     "name": "stdout",
     "output_type": "stream",
     "text": [
      "[[20277    33]\n",
      " [   20   633]]\n",
      "              precision    recall  f1-score   support\n",
      "\n",
      "           0       1.00      1.00      1.00     20310\n",
      "           1       0.95      0.97      0.96       653\n",
      "\n",
      "    accuracy                           1.00     20963\n",
      "   macro avg       0.97      0.98      0.98     20963\n",
      "weighted avg       1.00      1.00      1.00     20963\n",
      "\n"
     ]
    }
   ],
   "source": [
    "predicted_prob = model.predict(X_test1)\n",
    "predicted = [np.argmax(pred) for pred in predicted_prob]\n",
    "print(confusion_matrix(Y_test1,predicted))\n",
    "print(classification_report(Y_test1,predicted))\n"
   ]
  },
  {
   "cell_type": "markdown",
   "metadata": {},
   "source": [
    "# LSTM"
   ]
  },
  {
   "cell_type": "markdown",
   "metadata": {},
   "source": [
    "## With smote"
   ]
  },
  {
   "cell_type": "code",
   "execution_count": 35,
   "metadata": {
    "execution": {
     "iopub.execute_input": "2022-11-06T09:00:02.231345Z",
     "iopub.status.busy": "2022-11-06T09:00:02.230975Z",
     "iopub.status.idle": "2022-11-06T09:01:02.588031Z",
     "shell.execute_reply": "2022-11-06T09:01:02.586924Z",
     "shell.execute_reply.started": "2022-11-06T09:00:02.231312Z"
    }
   },
   "outputs": [
    {
     "name": "stdout",
     "output_type": "stream",
     "text": [
      "Model: \"sequential_7\"\n",
      "_________________________________________________________________\n",
      "Layer (type)                 Output Shape              Param #   \n",
      "=================================================================\n",
      "embedding_6 (Embedding)      (None, 46, 100)           2804800   \n",
      "_________________________________________________________________\n",
      "conv1d_7 (Conv1D)            (None, 46, 64)            32064     \n",
      "_________________________________________________________________\n",
      "max_pooling1d_6 (MaxPooling1 (None, 10, 64)            0         \n",
      "_________________________________________________________________\n",
      "dropout_12 (Dropout)         (None, 10, 64)            0         \n",
      "_________________________________________________________________\n",
      "lstm_3 (LSTM)                (None, 50)                23000     \n",
      "_________________________________________________________________\n",
      "dense_12 (Dense)             (None, 32)                1632      \n",
      "_________________________________________________________________\n",
      "dropout_13 (Dropout)         (None, 32)                0         \n",
      "_________________________________________________________________\n",
      "dense_13 (Dense)             (None, 2)                 66        \n",
      "=================================================================\n",
      "Total params: 2,861,562\n",
      "Trainable params: 2,861,562\n",
      "Non-trainable params: 0\n",
      "_________________________________________________________________\n"
     ]
    }
   ],
   "source": [
    "filter_size = 64\n",
    "kernel_size = 5\n",
    "pool_size = 5\n",
    "\n",
    "\n",
    "model = tf.keras.Sequential([\n",
    "#    tf.keras.layers.Embedding(vocab_size, embedding_dim, input_length=max_length,\n",
    "#                              embeddings_initializer='orthogonal', embeddings_regularizer='L2'),\n",
    "    tf.keras.layers.Embedding(vocab_size, embedding_dim, input_length=max_length),\n",
    "    tf.keras.layers.Conv1D(filter_size, kernel_size, activation='relu', padding='same'),\n",
    "    tf.keras.layers.MaxPooling1D(pool_size, padding='same'),\n",
    "    tf.keras.layers.Dropout(0.2),\n",
    "    tf.keras.layers.LSTM(50),\n",
    "    tf.keras.layers.Dense(32, activation=tf.nn.relu),\n",
    "    tf.keras.layers.Dropout(0.2),\n",
    "    tf.keras.layers.Dense(2, activation=tf.nn.softmax)\n",
    "])\n",
    "\n",
    "model.compile(\n",
    "    loss=tf.keras.losses.CategoricalCrossentropy(),\n",
    "    optimizer=tf.keras.optimizers.Adam(learning_rate=0.01),\n",
    "    metrics=METRICS\n",
    ")\n",
    "model.summary()"
   ]
  },
  {
   "cell_type": "code",
   "execution_count": 36,
   "metadata": {
    "execution": {
     "iopub.execute_input": "2022-11-06T09:01:02.590514Z",
     "iopub.status.busy": "2022-11-06T09:01:02.590141Z",
     "iopub.status.idle": "2022-11-06T09:05:46.998616Z",
     "shell.execute_reply": "2022-11-06T09:05:46.997646Z",
     "shell.execute_reply.started": "2022-11-06T09:01:02.590478Z"
    }
   },
   "outputs": [
    {
     "name": "stdout",
     "output_type": "stream",
     "text": [
      "Epoch 1/5\n",
      "1270/1270 [==============================] - 59s 46ms/step - loss: 0.1939 - accuracy: 0.9335 - precision: 0.9335 - recall: 0.9335 - auc: 0.9812 - val_loss: 0.1218 - val_accuracy: 0.9594 - val_precision: 0.9594 - val_recall: 0.9594 - val_auc: 0.9901\n",
      "Epoch 2/5\n",
      "1270/1270 [==============================] - 55s 43ms/step - loss: 0.1060 - accuracy: 0.9640 - precision: 0.9640 - recall: 0.9640 - auc: 0.9920 - val_loss: 0.1041 - val_accuracy: 0.9644 - val_precision: 0.9644 - val_recall: 0.9644 - val_auc: 0.9927\n",
      "Epoch 3/5\n",
      "1270/1270 [==============================] - 58s 45ms/step - loss: 0.0892 - accuracy: 0.9690 - precision: 0.9690 - recall: 0.9690 - auc: 0.9943 - val_loss: 0.1073 - val_accuracy: 0.9645 - val_precision: 0.9645 - val_recall: 0.9645 - val_auc: 0.9921\n",
      "Epoch 4/5\n",
      "1270/1270 [==============================] - 58s 46ms/step - loss: 0.0829 - accuracy: 0.9707 - precision: 0.9707 - recall: 0.9707 - auc: 0.9950 - val_loss: 0.1059 - val_accuracy: 0.9639 - val_precision: 0.9639 - val_recall: 0.9639 - val_auc: 0.9923\n",
      "Epoch 5/5\n",
      "1270/1270 [==============================] - 55s 44ms/step - loss: 0.0820 - accuracy: 0.9707 - precision: 0.9707 - recall: 0.9707 - auc: 0.9952 - val_loss: 0.1127 - val_accuracy: 0.9645 - val_precision: 0.9645 - val_recall: 0.9645 - val_auc: 0.9910\n"
     ]
    }
   ],
   "source": [
    "# callback = tf.keras.callbacks.EarlyStopping(monitor='val_auc', patience=10, mode='max', restore_best_weights=True)\n",
    "tf.config.run_functions_eagerly(True)\n",
    "\n",
    "num_epochs = 5\n",
    "history = model.fit(\n",
    "    X_train,\n",
    "    Training_labels,\n",
    "    epochs=num_epochs,\n",
    "    batch_size = 128,\n",
    "    validation_data=(X_test, Testing_labels)\n",
    ")"
   ]
  },
  {
   "cell_type": "code",
   "execution_count": 37,
   "metadata": {
    "execution": {
     "iopub.execute_input": "2022-11-06T09:05:47.001229Z",
     "iopub.status.busy": "2022-11-06T09:05:47.000394Z",
     "iopub.status.idle": "2022-11-06T09:05:54.540493Z",
     "shell.execute_reply": "2022-11-06T09:05:54.539413Z",
     "shell.execute_reply.started": "2022-11-06T09:05:47.001175Z"
    }
   },
   "outputs": [
    {
     "name": "stdout",
     "output_type": "stream",
     "text": [
      "[[19840   248]\n",
      " [ 1194 19336]]\n",
      "              precision    recall  f1-score   support\n",
      "\n",
      "           0       0.94      0.99      0.96     20088\n",
      "           1       0.99      0.94      0.96     20530\n",
      "\n",
      "    accuracy                           0.96     40618\n",
      "   macro avg       0.97      0.96      0.96     40618\n",
      "weighted avg       0.97      0.96      0.96     40618\n",
      "\n"
     ]
    }
   ],
   "source": [
    "predicted_prob = model.predict(X_test)\n",
    "predicted = [np.argmax(pred) for pred in predicted_prob]\n",
    "print(confusion_matrix(Y_test,predicted))\n",
    "print(classification_report(Y_test,predicted))"
   ]
  },
  {
   "cell_type": "markdown",
   "metadata": {},
   "source": [
    "## Without smote"
   ]
  },
  {
   "cell_type": "code",
   "execution_count": 45,
   "metadata": {
    "execution": {
     "iopub.execute_input": "2022-11-06T09:12:39.597285Z",
     "iopub.status.busy": "2022-11-06T09:12:39.596924Z",
     "iopub.status.idle": "2022-11-06T09:12:39.869818Z",
     "shell.execute_reply": "2022-11-06T09:12:39.868664Z",
     "shell.execute_reply.started": "2022-11-06T09:12:39.597256Z"
    }
   },
   "outputs": [
    {
     "name": "stdout",
     "output_type": "stream",
     "text": [
      "Model: \"sequential_11\"\n",
      "_________________________________________________________________\n",
      "Layer (type)                 Output Shape              Param #   \n",
      "=================================================================\n",
      "embedding_10 (Embedding)     (None, 46, 100)           2804800   \n",
      "_________________________________________________________________\n",
      "conv1d_11 (Conv1D)           (None, 46, 64)            32064     \n",
      "_________________________________________________________________\n",
      "max_pooling1d_10 (MaxPooling (None, 10, 64)            0         \n",
      "_________________________________________________________________\n",
      "dropout_20 (Dropout)         (None, 10, 64)            0         \n",
      "_________________________________________________________________\n",
      "lstm_6 (LSTM)                (None, 50)                23000     \n",
      "_________________________________________________________________\n",
      "dense_20 (Dense)             (None, 32)                1632      \n",
      "_________________________________________________________________\n",
      "dropout_21 (Dropout)         (None, 32)                0         \n",
      "_________________________________________________________________\n",
      "dense_21 (Dense)             (None, 2)                 66        \n",
      "=================================================================\n",
      "Total params: 2,861,562\n",
      "Trainable params: 2,861,562\n",
      "Non-trainable params: 0\n",
      "_________________________________________________________________\n"
     ]
    }
   ],
   "source": [
    "filter_size = 64\n",
    "kernel_size = 5\n",
    "pool_size = 5\n",
    "\n",
    "\n",
    "model = tf.keras.Sequential([\n",
    "#    tf.keras.layers.Embedding(vocab_size, embedding_dim, input_length=max_length,\n",
    "#                              embeddings_initializer='orthogonal', embeddings_regularizer='L2'),\n",
    "    tf.keras.layers.Embedding(vocab_size, embedding_dim, input_length=max_length),\n",
    "    tf.keras.layers.Conv1D(filter_size, kernel_size, activation='relu', padding='same'),\n",
    "    tf.keras.layers.MaxPooling1D(pool_size, padding='same'),\n",
    "    tf.keras.layers.Dropout(0.2),\n",
    "    tf.keras.layers.LSTM(50),\n",
    "    tf.keras.layers.Dense(32, activation=tf.nn.relu),\n",
    "    tf.keras.layers.Dropout(0.2),\n",
    "    tf.keras.layers.Dense(2, activation=tf.nn.softmax)\n",
    "])\n",
    "\n",
    "model.compile(\n",
    "    loss=tf.keras.losses.CategoricalCrossentropy(),\n",
    "    optimizer=tf.keras.optimizers.Adam(learning_rate=0.01),\n",
    "    metrics=METRICS\n",
    ")\n",
    "model.summary()"
   ]
  },
  {
   "cell_type": "code",
   "execution_count": 46,
   "metadata": {
    "execution": {
     "iopub.execute_input": "2022-11-06T09:12:39.873337Z",
     "iopub.status.busy": "2022-11-06T09:12:39.872914Z",
     "iopub.status.idle": "2022-11-06T09:15:04.367151Z",
     "shell.execute_reply": "2022-11-06T09:15:04.366232Z",
     "shell.execute_reply.started": "2022-11-06T09:12:39.873295Z"
    }
   },
   "outputs": [
    {
     "name": "stdout",
     "output_type": "stream",
     "text": [
      "Epoch 1/5\n",
      "656/656 [==============================] - 28s 43ms/step - loss: 0.0750 - accuracy: 0.9729 - precision: 0.9729 - recall: 0.9729 - auc: 0.9929 - val_loss: 0.0187 - val_accuracy: 0.9960 - val_precision: 0.9960 - val_recall: 0.9960 - val_auc: 0.9988\n",
      "Epoch 2/5\n",
      "656/656 [==============================] - 30s 46ms/step - loss: 0.0159 - accuracy: 0.9964 - precision: 0.9964 - recall: 0.9964 - auc: 0.9995 - val_loss: 0.0159 - val_accuracy: 0.9965 - val_precision: 0.9965 - val_recall: 0.9965 - val_auc: 0.9989\n",
      "Epoch 3/5\n",
      "656/656 [==============================] - 28s 43ms/step - loss: 0.0106 - accuracy: 0.9979 - precision: 0.9979 - recall: 0.9979 - auc: 0.9997 - val_loss: 0.0161 - val_accuracy: 0.9971 - val_precision: 0.9971 - val_recall: 0.9971 - val_auc: 0.9990\n",
      "Epoch 4/5\n",
      "656/656 [==============================] - 28s 43ms/step - loss: 0.0094 - accuracy: 0.9980 - precision: 0.9980 - recall: 0.9980 - auc: 0.9998 - val_loss: 0.0169 - val_accuracy: 0.9971 - val_precision: 0.9971 - val_recall: 0.9971 - val_auc: 0.9991\n",
      "Epoch 5/5\n",
      "656/656 [==============================] - 30s 45ms/step - loss: 0.0080 - accuracy: 0.9984 - precision: 0.9984 - recall: 0.9984 - auc: 0.9998 - val_loss: 0.0128 - val_accuracy: 0.9980 - val_precision: 0.9980 - val_recall: 0.9980 - val_auc: 0.9991\n"
     ]
    }
   ],
   "source": [
    "# callback = tf.keras.callbacks.EarlyStopping(monitor='val_auc', patience=10, mode='max', restore_best_weights=True)\n",
    "tf.config.run_functions_eagerly(True)\n",
    "\n",
    "num_epochs = 5\n",
    "history = model.fit(\n",
    "    X_train1,\n",
    "    Training_labels1,\n",
    "    epochs=num_epochs,\n",
    "    batch_size = 128,\n",
    "    validation_data=(X_test1, Testing_labels1)\n",
    ")"
   ]
  },
  {
   "cell_type": "code",
   "execution_count": 47,
   "metadata": {
    "execution": {
     "iopub.execute_input": "2022-11-06T09:15:04.369504Z",
     "iopub.status.busy": "2022-11-06T09:15:04.369070Z",
     "iopub.status.idle": "2022-11-06T09:15:08.488425Z",
     "shell.execute_reply": "2022-11-06T09:15:08.487376Z",
     "shell.execute_reply.started": "2022-11-06T09:15:04.369460Z"
    }
   },
   "outputs": [
    {
     "name": "stdout",
     "output_type": "stream",
     "text": [
      "[[20285    25]\n",
      " [   17   636]]\n",
      "              precision    recall  f1-score   support\n",
      "\n",
      "           0       1.00      1.00      1.00     20310\n",
      "           1       0.96      0.97      0.97       653\n",
      "\n",
      "    accuracy                           1.00     20963\n",
      "   macro avg       0.98      0.99      0.98     20963\n",
      "weighted avg       1.00      1.00      1.00     20963\n",
      "\n"
     ]
    }
   ],
   "source": [
    "predicted_prob = model.predict(X_test1)\n",
    "predicted = [np.argmax(pred) for pred in predicted_prob]\n",
    "print(confusion_matrix(Y_test1,predicted))\n",
    "print(classification_report(Y_test1,predicted))"
   ]
  },
  {
   "cell_type": "markdown",
   "metadata": {},
   "source": [
    "# GRU"
   ]
  },
  {
   "cell_type": "markdown",
   "metadata": {},
   "source": [
    "## with smote"
   ]
  },
  {
   "cell_type": "code",
   "execution_count": 42,
   "metadata": {
    "execution": {
     "iopub.execute_input": "2022-11-06T09:07:05.537314Z",
     "iopub.status.busy": "2022-11-06T09:07:05.536603Z",
     "iopub.status.idle": "2022-11-06T09:07:05.758236Z",
     "shell.execute_reply": "2022-11-06T09:07:05.757100Z",
     "shell.execute_reply.started": "2022-11-06T09:07:05.537274Z"
    }
   },
   "outputs": [
    {
     "name": "stdout",
     "output_type": "stream",
     "text": [
      "Model: \"sequential_10\"\n",
      "_________________________________________________________________\n",
      "Layer (type)                 Output Shape              Param #   \n",
      "=================================================================\n",
      "embedding_9 (Embedding)      (None, 46, 100)           2804800   \n",
      "_________________________________________________________________\n",
      "conv1d_10 (Conv1D)           (None, 46, 64)            32064     \n",
      "_________________________________________________________________\n",
      "max_pooling1d_9 (MaxPooling1 (None, 10, 64)            0         \n",
      "_________________________________________________________________\n",
      "dropout_18 (Dropout)         (None, 10, 64)            0         \n",
      "_________________________________________________________________\n",
      "gru (GRU)                    (None, 50)                17400     \n",
      "_________________________________________________________________\n",
      "dense_18 (Dense)             (None, 32)                1632      \n",
      "_________________________________________________________________\n",
      "dropout_19 (Dropout)         (None, 32)                0         \n",
      "_________________________________________________________________\n",
      "dense_19 (Dense)             (None, 2)                 66        \n",
      "=================================================================\n",
      "Total params: 2,855,962\n",
      "Trainable params: 2,855,962\n",
      "Non-trainable params: 0\n",
      "_________________________________________________________________\n"
     ]
    }
   ],
   "source": [
    "filter_size = 64\n",
    "kernel_size = 5\n",
    "pool_size = 5\n",
    "\n",
    "\n",
    "model = tf.keras.Sequential([\n",
    "#    tf.keras.layers.Embedding(vocab_size, embedding_dim, input_length=max_length,\n",
    "#                              embeddings_initializer='orthogonal', embeddings_regularizer='L2'),\n",
    "    tf.keras.layers.Embedding(vocab_size, embedding_dim, input_length=max_length),\n",
    "    tf.keras.layers.Conv1D(filter_size, kernel_size, activation='relu', padding='same'),\n",
    "    tf.keras.layers.MaxPooling1D(pool_size, padding='same'),\n",
    "    tf.keras.layers.Dropout(0.2),\n",
    "    tf.keras.layers.GRU(50),\n",
    "    tf.keras.layers.Dense(32, activation=tf.nn.relu),\n",
    "    tf.keras.layers.Dropout(0.2),\n",
    "    tf.keras.layers.Dense(2, activation=tf.nn.softmax)\n",
    "])\n",
    "\n",
    "model.compile(\n",
    "    loss=tf.keras.losses.CategoricalCrossentropy(),\n",
    "    optimizer=tf.keras.optimizers.Adam(learning_rate=0.01),\n",
    "    metrics=METRICS\n",
    ")\n",
    "model.summary()"
   ]
  },
  {
   "cell_type": "code",
   "execution_count": 43,
   "metadata": {
    "execution": {
     "iopub.execute_input": "2022-11-06T09:07:07.226732Z",
     "iopub.status.busy": "2022-11-06T09:07:07.225849Z",
     "iopub.status.idle": "2022-11-06T09:12:29.186888Z",
     "shell.execute_reply": "2022-11-06T09:12:29.185651Z",
     "shell.execute_reply.started": "2022-11-06T09:07:07.226697Z"
    }
   },
   "outputs": [
    {
     "name": "stdout",
     "output_type": "stream",
     "text": [
      "Epoch 1/5\n",
      "1270/1270 [==============================] - 56s 44ms/step - loss: 0.1954 - accuracy: 0.9485 - precision: 0.9485 - recall: 0.9485 - auc: 0.9807 - val_loss: 0.1226 - val_accuracy: 0.9590 - val_precision: 0.9590 - val_recall: 0.9590 - val_auc: 0.9898\n",
      "Epoch 2/5\n",
      "1270/1270 [==============================] - 56s 44ms/step - loss: 0.1190 - accuracy: 0.9604 - precision: 0.9604 - recall: 0.9604 - auc: 0.9901 - val_loss: 0.1187 - val_accuracy: 0.9622 - val_precision: 0.9622 - val_recall: 0.9622 - val_auc: 0.9905\n",
      "Epoch 3/5\n",
      "1270/1270 [==============================] - 57s 45ms/step - loss: 0.1116 - accuracy: 0.9629 - precision: 0.9629 - recall: 0.9629 - auc: 0.9911 - val_loss: 0.1145 - val_accuracy: 0.9631 - val_precision: 0.9631 - val_recall: 0.9631 - val_auc: 0.9910\n",
      "Epoch 4/5\n",
      "1270/1270 [==============================] - 54s 43ms/step - loss: 0.1055 - accuracy: 0.9654 - precision: 0.9654 - recall: 0.9654 - auc: 0.9919 - val_loss: 0.1178 - val_accuracy: 0.9627 - val_precision: 0.9627 - val_recall: 0.9627 - val_auc: 0.9906\n",
      "Epoch 5/5\n",
      "1270/1270 [==============================] - 53s 42ms/step - loss: 0.1004 - accuracy: 0.9668 - precision: 0.9668 - recall: 0.9668 - auc: 0.9925 - val_loss: 0.1256 - val_accuracy: 0.9568 - val_precision: 0.9568 - val_recall: 0.9568 - val_auc: 0.9899\n"
     ]
    }
   ],
   "source": [
    "# callback = tf.keras.callbacks.EarlyStopping(monitor='val_auc', patience=10, mode='max', restore_best_weights=True)\n",
    "tf.config.run_functions_eagerly(True)\n",
    "\n",
    "num_epochs = 5\n",
    "history = model.fit(\n",
    "    X_train,\n",
    "    Training_labels,\n",
    "    epochs=num_epochs,\n",
    "    batch_size = 128,\n",
    "    validation_data=(X_test, Testing_labels)\n",
    ")"
   ]
  },
  {
   "cell_type": "code",
   "execution_count": 44,
   "metadata": {
    "execution": {
     "iopub.execute_input": "2022-11-06T09:12:29.190153Z",
     "iopub.status.busy": "2022-11-06T09:12:29.189749Z",
     "iopub.status.idle": "2022-11-06T09:12:39.595317Z",
     "shell.execute_reply": "2022-11-06T09:12:39.594250Z",
     "shell.execute_reply.started": "2022-11-06T09:12:29.190113Z"
    }
   },
   "outputs": [
    {
     "name": "stdout",
     "output_type": "stream",
     "text": [
      "[[20019    69]\n",
      " [ 1686 18844]]\n",
      "              precision    recall  f1-score   support\n",
      "\n",
      "           0       0.92      1.00      0.96     20088\n",
      "           1       1.00      0.92      0.96     20530\n",
      "\n",
      "    accuracy                           0.96     40618\n",
      "   macro avg       0.96      0.96      0.96     40618\n",
      "weighted avg       0.96      0.96      0.96     40618\n",
      "\n"
     ]
    }
   ],
   "source": [
    "predicted_prob = model.predict(X_test)\n",
    "predicted = [np.argmax(pred) for pred in predicted_prob]\n",
    "print(confusion_matrix(Y_test,predicted))\n",
    "print(classification_report(Y_test,predicted))"
   ]
  },
  {
   "cell_type": "markdown",
   "metadata": {},
   "source": [
    "## without smote "
   ]
  },
  {
   "cell_type": "code",
   "execution_count": 48,
   "metadata": {
    "execution": {
     "iopub.execute_input": "2022-11-06T09:15:08.490470Z",
     "iopub.status.busy": "2022-11-06T09:15:08.490076Z",
     "iopub.status.idle": "2022-11-06T09:15:08.704387Z",
     "shell.execute_reply": "2022-11-06T09:15:08.703371Z",
     "shell.execute_reply.started": "2022-11-06T09:15:08.490433Z"
    }
   },
   "outputs": [
    {
     "name": "stdout",
     "output_type": "stream",
     "text": [
      "Model: \"sequential_12\"\n",
      "_________________________________________________________________\n",
      "Layer (type)                 Output Shape              Param #   \n",
      "=================================================================\n",
      "embedding_11 (Embedding)     (None, 46, 100)           2804800   \n",
      "_________________________________________________________________\n",
      "conv1d_12 (Conv1D)           (None, 46, 64)            32064     \n",
      "_________________________________________________________________\n",
      "max_pooling1d_11 (MaxPooling (None, 10, 64)            0         \n",
      "_________________________________________________________________\n",
      "dropout_22 (Dropout)         (None, 10, 64)            0         \n",
      "_________________________________________________________________\n",
      "gru_1 (GRU)                  (None, 50)                17400     \n",
      "_________________________________________________________________\n",
      "dense_22 (Dense)             (None, 32)                1632      \n",
      "_________________________________________________________________\n",
      "dropout_23 (Dropout)         (None, 32)                0         \n",
      "_________________________________________________________________\n",
      "dense_23 (Dense)             (None, 2)                 66        \n",
      "=================================================================\n",
      "Total params: 2,855,962\n",
      "Trainable params: 2,855,962\n",
      "Non-trainable params: 0\n",
      "_________________________________________________________________\n"
     ]
    }
   ],
   "source": [
    "filter_size = 64\n",
    "kernel_size = 5\n",
    "pool_size = 5\n",
    "\n",
    "\n",
    "model = tf.keras.Sequential([\n",
    "#    tf.keras.layers.Embedding(vocab_size, embedding_dim, input_length=max_length,\n",
    "#                              embeddings_initializer='orthogonal', embeddings_regularizer='L2'),\n",
    "    tf.keras.layers.Embedding(vocab_size, embedding_dim, input_length=max_length),\n",
    "    tf.keras.layers.Conv1D(filter_size, kernel_size, activation='relu', padding='same'),\n",
    "    tf.keras.layers.MaxPooling1D(pool_size, padding='same'),\n",
    "    tf.keras.layers.Dropout(0.2),\n",
    "    tf.keras.layers.GRU(50),\n",
    "    tf.keras.layers.Dense(32, activation=tf.nn.relu),\n",
    "    tf.keras.layers.Dropout(0.2),\n",
    "    tf.keras.layers.Dense(2, activation=tf.nn.softmax)\n",
    "])\n",
    "\n",
    "model.compile(\n",
    "    loss=tf.keras.losses.CategoricalCrossentropy(),\n",
    "    optimizer=tf.keras.optimizers.Adam(learning_rate=0.01),\n",
    "    metrics=METRICS\n",
    ")\n",
    "model.summary()"
   ]
  },
  {
   "cell_type": "code",
   "execution_count": 49,
   "metadata": {
    "execution": {
     "iopub.execute_input": "2022-11-06T09:15:08.706135Z",
     "iopub.status.busy": "2022-11-06T09:15:08.705814Z",
     "iopub.status.idle": "2022-11-06T09:17:30.780845Z",
     "shell.execute_reply": "2022-11-06T09:17:30.779843Z",
     "shell.execute_reply.started": "2022-11-06T09:15:08.706100Z"
    }
   },
   "outputs": [
    {
     "name": "stdout",
     "output_type": "stream",
     "text": [
      "Epoch 1/5\n",
      "656/656 [==============================] - 30s 45ms/step - loss: 0.0657 - accuracy: 0.9874 - precision: 0.9874 - recall: 0.9874 - auc: 0.9953 - val_loss: 0.0170 - val_accuracy: 0.9972 - val_precision: 0.9972 - val_recall: 0.9972 - val_auc: 0.9980\n",
      "Epoch 2/5\n",
      "656/656 [==============================] - 28s 42ms/step - loss: 0.0095 - accuracy: 0.9977 - precision: 0.9977 - recall: 0.9977 - auc: 0.9994 - val_loss: 0.0073 - val_accuracy: 0.9984 - val_precision: 0.9984 - val_recall: 0.9984 - val_auc: 0.9995\n",
      "Epoch 3/5\n",
      "656/656 [==============================] - 28s 42ms/step - loss: 0.0047 - accuracy: 0.9987 - precision: 0.9987 - recall: 0.9987 - auc: 0.9998 - val_loss: 0.0086 - val_accuracy: 0.9990 - val_precision: 0.9990 - val_recall: 0.9990 - val_auc: 0.9995\n",
      "Epoch 4/5\n",
      "656/656 [==============================] - 28s 42ms/step - loss: 0.0021 - accuracy: 0.9998 - precision: 0.9998 - recall: 0.9998 - auc: 0.9999 - val_loss: 0.0065 - val_accuracy: 0.9995 - val_precision: 0.9995 - val_recall: 0.9995 - val_auc: 0.9995\n",
      "Epoch 5/5\n",
      "656/656 [==============================] - 29s 44ms/step - loss: 0.0017 - accuracy: 0.9997 - precision: 0.9997 - recall: 0.9997 - auc: 0.9999 - val_loss: 0.0039 - val_accuracy: 0.9995 - val_precision: 0.9995 - val_recall: 0.9995 - val_auc: 0.9998\n"
     ]
    }
   ],
   "source": [
    "# callback = tf.keras.callbacks.EarlyStopping(monitor='val_auc', patience=10, mode='max', restore_best_weights=True)\n",
    "tf.config.run_functions_eagerly(True)\n",
    "\n",
    "num_epochs = 5\n",
    "history = model.fit(\n",
    "    X_train1,\n",
    "    Training_labels1,\n",
    "    epochs=num_epochs,\n",
    "    batch_size = 128,\n",
    "    validation_data=(X_test1, Testing_labels1)\n",
    ")"
   ]
  },
  {
   "cell_type": "code",
   "execution_count": 50,
   "metadata": {
    "execution": {
     "iopub.execute_input": "2022-11-06T09:17:30.783373Z",
     "iopub.status.busy": "2022-11-06T09:17:30.782967Z",
     "iopub.status.idle": "2022-11-06T09:17:34.517670Z",
     "shell.execute_reply": "2022-11-06T09:17:34.516563Z",
     "shell.execute_reply.started": "2022-11-06T09:17:30.783335Z"
    }
   },
   "outputs": [
    {
     "name": "stdout",
     "output_type": "stream",
     "text": [
      "[[20310     0]\n",
      " [   10   643]]\n",
      "              precision    recall  f1-score   support\n",
      "\n",
      "           0       1.00      1.00      1.00     20310\n",
      "           1       1.00      0.98      0.99       653\n",
      "\n",
      "    accuracy                           1.00     20963\n",
      "   macro avg       1.00      0.99      1.00     20963\n",
      "weighted avg       1.00      1.00      1.00     20963\n",
      "\n"
     ]
    }
   ],
   "source": [
    "predicted_prob = model.predict(X_test1)\n",
    "predicted = [np.argmax(pred) for pred in predicted_prob]\n",
    "print(confusion_matrix(Y_test1,predicted))\n",
    "print(classification_report(Y_test1,predicted))"
   ]
  },
  {
   "cell_type": "markdown",
   "metadata": {},
   "source": [
    "# BIGRU"
   ]
  },
  {
   "cell_type": "markdown",
   "metadata": {},
   "source": [
    "## With smote"
   ]
  },
  {
   "cell_type": "code",
   "execution_count": 51,
   "metadata": {
    "execution": {
     "iopub.execute_input": "2022-11-06T09:17:34.519784Z",
     "iopub.status.busy": "2022-11-06T09:17:34.519430Z",
     "iopub.status.idle": "2022-11-06T09:17:34.904726Z",
     "shell.execute_reply": "2022-11-06T09:17:34.903540Z",
     "shell.execute_reply.started": "2022-11-06T09:17:34.519748Z"
    }
   },
   "outputs": [
    {
     "name": "stdout",
     "output_type": "stream",
     "text": [
      "Model: \"sequential_13\"\n",
      "_________________________________________________________________\n",
      "Layer (type)                 Output Shape              Param #   \n",
      "=================================================================\n",
      "embedding_12 (Embedding)     (None, 46, 100)           2804800   \n",
      "_________________________________________________________________\n",
      "conv1d_13 (Conv1D)           (None, 46, 64)            32064     \n",
      "_________________________________________________________________\n",
      "max_pooling1d_12 (MaxPooling (None, 10, 64)            0         \n",
      "_________________________________________________________________\n",
      "dropout_24 (Dropout)         (None, 10, 64)            0         \n",
      "_________________________________________________________________\n",
      "bidirectional_3 (Bidirection (None, 100)               34800     \n",
      "_________________________________________________________________\n",
      "dense_24 (Dense)             (None, 32)                3232      \n",
      "_________________________________________________________________\n",
      "dropout_25 (Dropout)         (None, 32)                0         \n",
      "_________________________________________________________________\n",
      "dense_25 (Dense)             (None, 2)                 66        \n",
      "=================================================================\n",
      "Total params: 2,874,962\n",
      "Trainable params: 2,874,962\n",
      "Non-trainable params: 0\n",
      "_________________________________________________________________\n"
     ]
    }
   ],
   "source": [
    "filter_size = 64\n",
    "kernel_size = 5\n",
    "pool_size = 5\n",
    "\n",
    "\n",
    "model = tf.keras.Sequential([\n",
    "#    tf.keras.layers.Embedding(vocab_size, embedding_dim, input_length=max_length,\n",
    "#                              embeddings_initializer='orthogonal', embeddings_regularizer='L2'),\n",
    "    tf.keras.layers.Embedding(vocab_size, embedding_dim, input_length=max_length),\n",
    "    tf.keras.layers.Conv1D(filter_size, kernel_size, activation='relu', padding='same'),\n",
    "    tf.keras.layers.MaxPooling1D(pool_size, padding='same'),\n",
    "    tf.keras.layers.Dropout(0.2),\n",
    "    tf.keras.layers.Bidirectional(tf.keras.layers.GRU(50)),\n",
    "    tf.keras.layers.Dense(32, activation=tf.nn.relu),\n",
    "    tf.keras.layers.Dropout(0.2),\n",
    "    tf.keras.layers.Dense(2, activation=tf.nn.softmax)\n",
    "])\n",
    "\n",
    "model.compile(\n",
    "    loss=tf.keras.losses.CategoricalCrossentropy(),\n",
    "    optimizer=tf.keras.optimizers.Adam(learning_rate=0.01),\n",
    "    metrics=METRICS\n",
    ")\n",
    "model.summary()"
   ]
  },
  {
   "cell_type": "code",
   "execution_count": 52,
   "metadata": {
    "execution": {
     "iopub.execute_input": "2022-11-06T09:17:34.908612Z",
     "iopub.status.busy": "2022-11-06T09:17:34.908234Z",
     "iopub.status.idle": "2022-11-06T09:22:52.311525Z",
     "shell.execute_reply": "2022-11-06T09:22:52.310618Z",
     "shell.execute_reply.started": "2022-11-06T09:17:34.908563Z"
    }
   },
   "outputs": [
    {
     "name": "stdout",
     "output_type": "stream",
     "text": [
      "Epoch 1/5\n",
      "1270/1270 [==============================] - 65s 51ms/step - loss: 0.1796 - accuracy: 0.9410 - precision: 0.9410 - recall: 0.9410 - auc: 0.9838 - val_loss: 0.1194 - val_accuracy: 0.9602 - val_precision: 0.9602 - val_recall: 0.9602 - val_auc: 0.9912\n",
      "Epoch 2/5\n",
      "1270/1270 [==============================] - 63s 49ms/step - loss: 0.1121 - accuracy: 0.9626 - precision: 0.9626 - recall: 0.9626 - auc: 0.9911 - val_loss: 0.1203 - val_accuracy: 0.9595 - val_precision: 0.9595 - val_recall: 0.9595 - val_auc: 0.9903\n",
      "Epoch 3/5\n",
      "1270/1270 [==============================] - 63s 49ms/step - loss: 0.1066 - accuracy: 0.9637 - precision: 0.9637 - recall: 0.9637 - auc: 0.9919 - val_loss: 0.1108 - val_accuracy: 0.9642 - val_precision: 0.9642 - val_recall: 0.9642 - val_auc: 0.9911\n",
      "Epoch 4/5\n",
      "1270/1270 [==============================] - 62s 49ms/step - loss: 0.1024 - accuracy: 0.9652 - precision: 0.9652 - recall: 0.9652 - auc: 0.9925 - val_loss: 0.1118 - val_accuracy: 0.9615 - val_precision: 0.9615 - val_recall: 0.9615 - val_auc: 0.9917\n",
      "Epoch 5/5\n",
      "1270/1270 [==============================] - 65s 51ms/step - loss: 0.0987 - accuracy: 0.9656 - precision: 0.9656 - recall: 0.9656 - auc: 0.9931 - val_loss: 0.1326 - val_accuracy: 0.9541 - val_precision: 0.9541 - val_recall: 0.9541 - val_auc: 0.9887\n"
     ]
    }
   ],
   "source": [
    "# callback = tf.keras.callbacks.EarlyStopping(monitor='val_auc', patience=10, mode='max', restore_best_weights=True)\n",
    "tf.config.run_functions_eagerly(True)\n",
    "\n",
    "num_epochs = 5\n",
    "history = model.fit(\n",
    "    X_train,\n",
    "    Training_labels,\n",
    "    epochs=num_epochs,\n",
    "    batch_size = 128,\n",
    "    validation_data=(X_test, Testing_labels)\n",
    ")"
   ]
  },
  {
   "cell_type": "code",
   "execution_count": 53,
   "metadata": {
    "execution": {
     "iopub.execute_input": "2022-11-06T09:22:52.313837Z",
     "iopub.status.busy": "2022-11-06T09:22:52.313389Z",
     "iopub.status.idle": "2022-11-06T09:23:03.080349Z",
     "shell.execute_reply": "2022-11-06T09:23:03.079238Z",
     "shell.execute_reply.started": "2022-11-06T09:22:52.313800Z"
    }
   },
   "outputs": [
    {
     "name": "stdout",
     "output_type": "stream",
     "text": [
      "[[20000    88]\n",
      " [ 1778 18752]]\n",
      "              precision    recall  f1-score   support\n",
      "\n",
      "           0       0.92      1.00      0.96     20088\n",
      "           1       1.00      0.91      0.95     20530\n",
      "\n",
      "    accuracy                           0.95     40618\n",
      "   macro avg       0.96      0.95      0.95     40618\n",
      "weighted avg       0.96      0.95      0.95     40618\n",
      "\n"
     ]
    }
   ],
   "source": [
    "predicted_prob = model.predict(X_test)\n",
    "predicted = [np.argmax(pred) for pred in predicted_prob]\n",
    "print(confusion_matrix(Y_test,predicted))\n",
    "print(classification_report(Y_test,predicted))"
   ]
  },
  {
   "cell_type": "markdown",
   "metadata": {},
   "source": [
    "## Without smote"
   ]
  },
  {
   "cell_type": "code",
   "execution_count": 54,
   "metadata": {
    "execution": {
     "iopub.execute_input": "2022-11-06T09:23:03.082488Z",
     "iopub.status.busy": "2022-11-06T09:23:03.082075Z",
     "iopub.status.idle": "2022-11-06T09:23:03.505627Z",
     "shell.execute_reply": "2022-11-06T09:23:03.504605Z",
     "shell.execute_reply.started": "2022-11-06T09:23:03.082449Z"
    }
   },
   "outputs": [
    {
     "name": "stdout",
     "output_type": "stream",
     "text": [
      "Model: \"sequential_14\"\n",
      "_________________________________________________________________\n",
      "Layer (type)                 Output Shape              Param #   \n",
      "=================================================================\n",
      "embedding_13 (Embedding)     (None, 46, 100)           2804800   \n",
      "_________________________________________________________________\n",
      "conv1d_14 (Conv1D)           (None, 46, 64)            32064     \n",
      "_________________________________________________________________\n",
      "max_pooling1d_13 (MaxPooling (None, 10, 64)            0         \n",
      "_________________________________________________________________\n",
      "dropout_26 (Dropout)         (None, 10, 64)            0         \n",
      "_________________________________________________________________\n",
      "bidirectional_4 (Bidirection (None, 100)               34800     \n",
      "_________________________________________________________________\n",
      "dense_26 (Dense)             (None, 32)                3232      \n",
      "_________________________________________________________________\n",
      "dropout_27 (Dropout)         (None, 32)                0         \n",
      "_________________________________________________________________\n",
      "dense_27 (Dense)             (None, 2)                 66        \n",
      "=================================================================\n",
      "Total params: 2,874,962\n",
      "Trainable params: 2,874,962\n",
      "Non-trainable params: 0\n",
      "_________________________________________________________________\n"
     ]
    }
   ],
   "source": [
    "filter_size = 64\n",
    "kernel_size = 5\n",
    "pool_size = 5\n",
    "\n",
    "\n",
    "model = tf.keras.Sequential([\n",
    "#    tf.keras.layers.Embedding(vocab_size, embedding_dim, input_length=max_length,\n",
    "#                              embeddings_initializer='orthogonal', embeddings_regularizer='L2'),\n",
    "    tf.keras.layers.Embedding(vocab_size, embedding_dim, input_length=max_length),\n",
    "    tf.keras.layers.Conv1D(filter_size, kernel_size, activation='relu', padding='same'),\n",
    "    tf.keras.layers.MaxPooling1D(pool_size, padding='same'),\n",
    "    tf.keras.layers.Dropout(0.2),\n",
    "    tf.keras.layers.Bidirectional(tf.keras.layers.GRU(50)),\n",
    "    tf.keras.layers.Dense(32, activation=tf.nn.relu),\n",
    "    tf.keras.layers.Dropout(0.2),\n",
    "    tf.keras.layers.Dense(2, activation=tf.nn.softmax)\n",
    "])\n",
    "\n",
    "model.compile(\n",
    "    loss=tf.keras.losses.CategoricalCrossentropy(),\n",
    "    optimizer=tf.keras.optimizers.Adam(learning_rate=0.01),\n",
    "    metrics=METRICS\n",
    ")\n",
    "model.summary()"
   ]
  },
  {
   "cell_type": "code",
   "execution_count": 55,
   "metadata": {
    "execution": {
     "iopub.execute_input": "2022-11-06T09:23:03.508542Z",
     "iopub.status.busy": "2022-11-06T09:23:03.508220Z",
     "iopub.status.idle": "2022-11-06T09:26:25.473438Z",
     "shell.execute_reply": "2022-11-06T09:26:25.472465Z",
     "shell.execute_reply.started": "2022-11-06T09:23:03.508514Z"
    }
   },
   "outputs": [
    {
     "name": "stdout",
     "output_type": "stream",
     "text": [
      "Epoch 1/5\n",
      "656/656 [==============================] - 33s 50ms/step - loss: 0.0382 - accuracy: 0.9788 - precision: 0.9788 - recall: 0.9788 - auc: 0.9959 - val_loss: 0.0032 - val_accuracy: 0.9996 - val_precision: 0.9996 - val_recall: 0.9996 - val_auc: 0.9998\n",
      "Epoch 2/5\n",
      "656/656 [==============================] - 33s 51ms/step - loss: 0.0012 - accuracy: 0.9997 - precision: 0.9997 - recall: 0.9997 - auc: 1.0000 - val_loss: 9.3934e-05 - val_accuracy: 1.0000 - val_precision: 1.0000 - val_recall: 1.0000 - val_auc: 1.0000\n",
      "Epoch 3/5\n",
      "656/656 [==============================] - 32s 49ms/step - loss: 4.3227e-04 - accuracy: 0.9999 - precision: 0.9999 - recall: 0.9999 - auc: 1.0000 - val_loss: 0.0044 - val_accuracy: 0.9995 - val_precision: 0.9995 - val_recall: 0.9995 - val_auc: 0.9996\n",
      "Epoch 4/5\n",
      "656/656 [==============================] - 33s 50ms/step - loss: 0.0061 - accuracy: 0.9989 - precision: 0.9989 - recall: 0.9989 - auc: 0.9996 - val_loss: 0.0182 - val_accuracy: 0.9975 - val_precision: 0.9975 - val_recall: 0.9975 - val_auc: 0.9991\n",
      "Epoch 5/5\n",
      "656/656 [==============================] - 33s 50ms/step - loss: 0.0078 - accuracy: 0.9984 - precision: 0.9984 - recall: 0.9984 - auc: 0.9997 - val_loss: 0.0068 - val_accuracy: 0.9986 - val_precision: 0.9986 - val_recall: 0.9986 - val_auc: 0.9999\n"
     ]
    }
   ],
   "source": [
    "# callback = tf.keras.callbacks.EarlyStopping(monitor='val_auc', patience=10, mode='max', restore_best_weights=True)\n",
    "tf.config.run_functions_eagerly(True)\n",
    "\n",
    "num_epochs = 5\n",
    "history = model.fit(\n",
    "    X_train1,\n",
    "    Training_labels1,\n",
    "    epochs=num_epochs,\n",
    "    batch_size = 128,\n",
    "    validation_data=(X_test1, Testing_labels1)\n",
    ")"
   ]
  },
  {
   "cell_type": "code",
   "execution_count": 56,
   "metadata": {
    "execution": {
     "iopub.execute_input": "2022-11-06T09:26:25.475320Z",
     "iopub.status.busy": "2022-11-06T09:26:25.474849Z",
     "iopub.status.idle": "2022-11-06T09:26:31.235664Z",
     "shell.execute_reply": "2022-11-06T09:26:31.234629Z",
     "shell.execute_reply.started": "2022-11-06T09:26:25.475281Z"
    }
   },
   "outputs": [
    {
     "name": "stdout",
     "output_type": "stream",
     "text": [
      "[[20281    29]\n",
      " [    1   652]]\n",
      "              precision    recall  f1-score   support\n",
      "\n",
      "           0       1.00      1.00      1.00     20310\n",
      "           1       0.96      1.00      0.98       653\n",
      "\n",
      "    accuracy                           1.00     20963\n",
      "   macro avg       0.98      1.00      0.99     20963\n",
      "weighted avg       1.00      1.00      1.00     20963\n",
      "\n"
     ]
    }
   ],
   "source": [
    "predicted_prob = model.predict(X_test1)\n",
    "predicted = [np.argmax(pred) for pred in predicted_prob]\n",
    "print(confusion_matrix(Y_test1,predicted))\n",
    "print(classification_report(Y_test1,predicted))"
   ]
  },
  {
   "cell_type": "markdown",
   "metadata": {},
   "source": [
    "# RNN"
   ]
  },
  {
   "cell_type": "markdown",
   "metadata": {},
   "source": [
    "## With smote"
   ]
  },
  {
   "cell_type": "code",
   "execution_count": 88,
   "metadata": {
    "execution": {
     "iopub.execute_input": "2022-11-06T10:05:37.586960Z",
     "iopub.status.busy": "2022-11-06T10:05:37.586595Z",
     "iopub.status.idle": "2022-11-06T10:05:37.683361Z",
     "shell.execute_reply": "2022-11-06T10:05:37.682362Z",
     "shell.execute_reply.started": "2022-11-06T10:05:37.586930Z"
    }
   },
   "outputs": [
    {
     "name": "stdout",
     "output_type": "stream",
     "text": [
      "Model: \"sequential_27\"\n",
      "_________________________________________________________________\n",
      "Layer (type)                 Output Shape              Param #   \n",
      "=================================================================\n",
      "embedding_26 (Embedding)     (None, 46, 100)           2804800   \n",
      "_________________________________________________________________\n",
      "conv1d_26 (Conv1D)           (None, 46, 64)            32064     \n",
      "_________________________________________________________________\n",
      "max_pooling1d_25 (MaxPooling (None, 10, 64)            0         \n",
      "_________________________________________________________________\n",
      "dropout_51 (Dropout)         (None, 10, 64)            0         \n",
      "_________________________________________________________________\n",
      "simple_rnn_17 (SimpleRNN)    (None, 30)                2850      \n",
      "_________________________________________________________________\n",
      "dense_52 (Dense)             (None, 32)                992       \n",
      "_________________________________________________________________\n",
      "dropout_52 (Dropout)         (None, 32)                0         \n",
      "_________________________________________________________________\n",
      "dense_53 (Dense)             (None, 2)                 66        \n",
      "=================================================================\n",
      "Total params: 2,840,772\n",
      "Trainable params: 2,840,772\n",
      "Non-trainable params: 0\n",
      "_________________________________________________________________\n"
     ]
    }
   ],
   "source": [
    "filter_size = 64\n",
    "kernel_size = 5\n",
    "pool_size = 5\n",
    "\n",
    "\n",
    "model = tf.keras.Sequential([\n",
    "#    tf.keras.layers.Embedding(vocab_size, embedding_dim, input_length=max_length,\n",
    "#                              embeddings_initializer='orthogonal', embeddings_regularizer='L2'),\n",
    "    tf.keras.layers.Embedding(vocab_size, embedding_dim, input_length=max_length),\n",
    "    \n",
    "    tf.keras.layers.Conv1D(filter_size, kernel_size, activation='relu', padding='same'),\n",
    "    tf.keras.layers.MaxPooling1D(pool_size, padding='same'),\n",
    "    tf.keras.layers.Dropout(0.2),\n",
    "    tf.keras.layers.SimpleRNN(30),\n",
    "    tf.keras.layers.Dense(32, activation=tf.nn.relu),\n",
    "    tf.keras.layers.Dropout(0.2),\n",
    "    tf.keras.layers.Dense(2, activation=tf.nn.softmax)\n",
    "])\n",
    "\n",
    "model.compile(\n",
    "    loss=tf.keras.losses.CategoricalCrossentropy(),\n",
    "    optimizer=tf.keras.optimizers.Adam(learning_rate=0.01),\n",
    "    metrics=METRICS\n",
    ")\n",
    "model.summary()"
   ]
  },
  {
   "cell_type": "code",
   "execution_count": 89,
   "metadata": {
    "execution": {
     "iopub.execute_input": "2022-11-06T10:05:40.870714Z",
     "iopub.status.busy": "2022-11-06T10:05:40.869232Z",
     "iopub.status.idle": "2022-11-06T10:06:47.050904Z",
     "shell.execute_reply": "2022-11-06T10:06:47.049981Z",
     "shell.execute_reply.started": "2022-11-06T10:05:40.870670Z"
    }
   },
   "outputs": [
    {
     "name": "stdout",
     "output_type": "stream",
     "text": [
      "1270/1270 [==============================] - 66s 52ms/step - loss: 0.2486 - accuracy: 0.9157 - precision: 0.9157 - recall: 0.9157 - auc: 0.9685 - val_loss: 0.1902 - val_accuracy: 0.9356 - val_precision: 0.9356 - val_recall: 0.9356 - val_auc: 0.9756\n"
     ]
    }
   ],
   "source": [
    "# callback = tf.keras.callbacks.EarlyStopping(monitor='val_auc', patience=10, mode='max', restore_best_weights=True)\n",
    "tf.config.run_functions_eagerly(True)\n",
    "\n",
    "num_epochs = 1\n",
    "history = model.fit(\n",
    "    X_train,\n",
    "    Training_labels,\n",
    "    epochs=num_epochs,\n",
    "    batch_size = 128,\n",
    "    validation_data=(X_test, Testing_labels)\n",
    ")"
   ]
  },
  {
   "cell_type": "code",
   "execution_count": 90,
   "metadata": {
    "execution": {
     "iopub.execute_input": "2022-11-06T10:06:47.054019Z",
     "iopub.status.busy": "2022-11-06T10:06:47.053221Z",
     "iopub.status.idle": "2022-11-06T10:07:02.102845Z",
     "shell.execute_reply": "2022-11-06T10:07:02.101721Z",
     "shell.execute_reply.started": "2022-11-06T10:06:47.053980Z"
    }
   },
   "outputs": [
    {
     "name": "stdout",
     "output_type": "stream",
     "text": [
      "[[19780   308]\n",
      " [ 2307 18223]]\n",
      "              precision    recall  f1-score   support\n",
      "\n",
      "           0       0.90      0.98      0.94     20088\n",
      "           1       0.98      0.89      0.93     20530\n",
      "\n",
      "    accuracy                           0.94     40618\n",
      "   macro avg       0.94      0.94      0.94     40618\n",
      "weighted avg       0.94      0.94      0.94     40618\n",
      "\n"
     ]
    }
   ],
   "source": [
    "predicted_prob = model.predict(X_test)\n",
    "predicted = [np.argmax(pred) for pred in predicted_prob]\n",
    "print(confusion_matrix(Y_test,predicted))\n",
    "print(classification_report(Y_test,predicted))"
   ]
  },
  {
   "cell_type": "markdown",
   "metadata": {},
   "source": [
    "## Without smote"
   ]
  },
  {
   "cell_type": "code",
   "execution_count": 85,
   "metadata": {
    "execution": {
     "iopub.execute_input": "2022-11-06T10:03:31.913162Z",
     "iopub.status.busy": "2022-11-06T10:03:31.912815Z",
     "iopub.status.idle": "2022-11-06T10:03:32.014066Z",
     "shell.execute_reply": "2022-11-06T10:03:32.012984Z",
     "shell.execute_reply.started": "2022-11-06T10:03:31.913132Z"
    }
   },
   "outputs": [
    {
     "name": "stdout",
     "output_type": "stream",
     "text": [
      "Model: \"sequential_26\"\n",
      "_________________________________________________________________\n",
      "Layer (type)                 Output Shape              Param #   \n",
      "=================================================================\n",
      "embedding_25 (Embedding)     (None, 46, 100)           2804800   \n",
      "_________________________________________________________________\n",
      "conv1d_25 (Conv1D)           (None, 46, 64)            32064     \n",
      "_________________________________________________________________\n",
      "max_pooling1d_24 (MaxPooling (None, 10, 64)            0         \n",
      "_________________________________________________________________\n",
      "dropout_49 (Dropout)         (None, 10, 64)            0         \n",
      "_________________________________________________________________\n",
      "simple_rnn_16 (SimpleRNN)    (None, 10)                750       \n",
      "_________________________________________________________________\n",
      "dense_50 (Dense)             (None, 32)                352       \n",
      "_________________________________________________________________\n",
      "dropout_50 (Dropout)         (None, 32)                0         \n",
      "_________________________________________________________________\n",
      "dense_51 (Dense)             (None, 2)                 66        \n",
      "=================================================================\n",
      "Total params: 2,838,032\n",
      "Trainable params: 2,838,032\n",
      "Non-trainable params: 0\n",
      "_________________________________________________________________\n"
     ]
    }
   ],
   "source": [
    "filter_size = 64\n",
    "kernel_size = 5\n",
    "pool_size = 5\n",
    "\n",
    "\n",
    "model = tf.keras.Sequential([\n",
    "#    tf.keras.layers.Embedding(vocab_size, embedding_dim, input_length=max_length,\n",
    "#                              embeddings_initializer='orthogonal', embeddings_regularizer='L2'),\n",
    "    tf.keras.layers.Embedding(vocab_size, embedding_dim, input_length=max_length),\n",
    "    \n",
    "    tf.keras.layers.Conv1D(filter_size, kernel_size, activation='relu', padding='same'),\n",
    "    tf.keras.layers.MaxPooling1D(pool_size, padding='same'),\n",
    "    tf.keras.layers.Dropout(0.2),\n",
    "    tf.keras.layers.SimpleRNN(10),\n",
    "    tf.keras.layers.Dense(32, activation=tf.nn.relu),\n",
    "    tf.keras.layers.Dropout(0.2),\n",
    "    tf.keras.layers.Dense(2, activation=tf.nn.softmax)\n",
    "])\n",
    "\n",
    "model.compile(\n",
    "    loss=tf.keras.losses.CategoricalCrossentropy(),\n",
    "    optimizer=tf.keras.optimizers.Adam(learning_rate=0.01),\n",
    "    metrics=METRICS\n",
    ")\n",
    "model.summary()"
   ]
  },
  {
   "cell_type": "code",
   "execution_count": 86,
   "metadata": {
    "execution": {
     "iopub.execute_input": "2022-11-06T10:03:32.512428Z",
     "iopub.status.busy": "2022-11-06T10:03:32.511677Z",
     "iopub.status.idle": "2022-11-06T10:04:54.470223Z",
     "shell.execute_reply": "2022-11-06T10:04:54.469236Z",
     "shell.execute_reply.started": "2022-11-06T10:03:32.512385Z"
    }
   },
   "outputs": [
    {
     "name": "stdout",
     "output_type": "stream",
     "text": [
      "Epoch 1/2\n",
      "656/656 [==============================] - 35s 54ms/step - loss: 0.0919 - accuracy: 0.9776 - precision: 0.9776 - recall: 0.9776 - auc: 0.9868 - val_loss: 0.0399 - val_accuracy: 0.9925 - val_precision: 0.9925 - val_recall: 0.9925 - val_auc: 0.9955\n",
      "Epoch 2/2\n",
      "656/656 [==============================] - 34s 52ms/step - loss: 0.0330 - accuracy: 0.9930 - precision: 0.9930 - recall: 0.9930 - auc: 0.9972 - val_loss: 0.0381 - val_accuracy: 0.9907 - val_precision: 0.9907 - val_recall: 0.9907 - val_auc: 0.9975\n"
     ]
    }
   ],
   "source": [
    "# callback = tf.keras.callbacks.EarlyStopping(monitor='val_auc', patience=10, mode='max', restore_best_weights=True)\n",
    "tf.config.run_functions_eagerly(True)\n",
    "\n",
    "num_epochs = 2\n",
    "history = model.fit(\n",
    "    X_train1,\n",
    "    Training_labels1,\n",
    "    epochs=num_epochs,\n",
    "    batch_size = 128,\n",
    "    validation_data=(X_test1, Testing_labels1)\n",
    ")"
   ]
  },
  {
   "cell_type": "code",
   "execution_count": 87,
   "metadata": {
    "execution": {
     "iopub.execute_input": "2022-11-06T10:04:54.473305Z",
     "iopub.status.busy": "2022-11-06T10:04:54.472821Z",
     "iopub.status.idle": "2022-11-06T10:05:02.199368Z",
     "shell.execute_reply": "2022-11-06T10:05:02.198211Z",
     "shell.execute_reply.started": "2022-11-06T10:04:54.473264Z"
    }
   },
   "outputs": [
    {
     "name": "stdout",
     "output_type": "stream",
     "text": [
      "[[20188   122]\n",
      " [   74   579]]\n",
      "              precision    recall  f1-score   support\n",
      "\n",
      "           0       1.00      0.99      1.00     20310\n",
      "           1       0.83      0.89      0.86       653\n",
      "\n",
      "    accuracy                           0.99     20963\n",
      "   macro avg       0.91      0.94      0.93     20963\n",
      "weighted avg       0.99      0.99      0.99     20963\n",
      "\n"
     ]
    }
   ],
   "source": [
    "predicted_prob = model.predict(X_test1)\n",
    "predicted = [np.argmax(pred) for pred in predicted_prob]\n",
    "print(confusion_matrix(Y_test1,predicted))\n",
    "print(classification_report(Y_test1,predicted))"
   ]
  },
  {
   "cell_type": "markdown",
   "metadata": {},
   "source": [
    "# BIRNN"
   ]
  },
  {
   "cell_type": "markdown",
   "metadata": {},
   "source": [
    "## With smote"
   ]
  },
  {
   "cell_type": "code",
   "execution_count": 68,
   "metadata": {
    "execution": {
     "iopub.execute_input": "2022-11-06T09:40:20.952133Z",
     "iopub.status.busy": "2022-11-06T09:40:20.951006Z",
     "iopub.status.idle": "2022-11-06T09:40:21.099358Z",
     "shell.execute_reply": "2022-11-06T09:40:21.098346Z",
     "shell.execute_reply.started": "2022-11-06T09:40:20.952091Z"
    }
   },
   "outputs": [
    {
     "name": "stdout",
     "output_type": "stream",
     "text": [
      "Model: \"sequential_20\"\n",
      "_________________________________________________________________\n",
      "Layer (type)                 Output Shape              Param #   \n",
      "=================================================================\n",
      "embedding_19 (Embedding)     (None, 46, 100)           2804800   \n",
      "_________________________________________________________________\n",
      "conv1d_19 (Conv1D)           (None, 46, 64)            32064     \n",
      "_________________________________________________________________\n",
      "max_pooling1d_18 (MaxPooling (None, 10, 64)            0         \n",
      "_________________________________________________________________\n",
      "dropout_37 (Dropout)         (None, 10, 64)            0         \n",
      "_________________________________________________________________\n",
      "bidirectional_5 (Bidirection (None, 60)                5700      \n",
      "_________________________________________________________________\n",
      "dense_38 (Dense)             (None, 32)                1952      \n",
      "_________________________________________________________________\n",
      "dropout_38 (Dropout)         (None, 32)                0         \n",
      "_________________________________________________________________\n",
      "dense_39 (Dense)             (None, 2)                 66        \n",
      "=================================================================\n",
      "Total params: 2,844,582\n",
      "Trainable params: 2,844,582\n",
      "Non-trainable params: 0\n",
      "_________________________________________________________________\n"
     ]
    }
   ],
   "source": [
    "filter_size = 64\n",
    "kernel_size = 5\n",
    "pool_size = 5\n",
    "\n",
    "\n",
    "model = tf.keras.Sequential([\n",
    "#    tf.keras.layers.Embedding(vocab_size, embedding_dim, input_length=max_length,\n",
    "#                              embeddings_initializer='orthogonal', embeddings_regularizer='L2'),\n",
    "    tf.keras.layers.Embedding(vocab_size, embedding_dim, input_length=max_length),\n",
    "    tf.keras.layers.Conv1D(filter_size, kernel_size, activation='relu', padding='same'),\n",
    "    tf.keras.layers.MaxPooling1D(pool_size, padding='same'),\n",
    "    tf.keras.layers.Dropout(0.2),\n",
    "    tf.keras.layers.Bidirectional(tf.keras.layers.SimpleRNN(30)),\n",
    "    tf.keras.layers.Dense(32, activation=tf.nn.relu),\n",
    "    tf.keras.layers.Dropout(0.2),\n",
    "    tf.keras.layers.Dense(2, activation=tf.nn.softmax)\n",
    "])\n",
    "\n",
    "model.compile(\n",
    "    loss=tf.keras.losses.CategoricalCrossentropy(),\n",
    "    optimizer=tf.keras.optimizers.Adam(learning_rate=0.01),\n",
    "    metrics=METRICS\n",
    ")\n",
    "model.summary()"
   ]
  },
  {
   "cell_type": "code",
   "execution_count": 69,
   "metadata": {
    "execution": {
     "iopub.execute_input": "2022-11-06T09:40:21.101230Z",
     "iopub.status.busy": "2022-11-06T09:40:21.100877Z",
     "iopub.status.idle": "2022-11-06T09:48:43.058890Z",
     "shell.execute_reply": "2022-11-06T09:48:43.057793Z",
     "shell.execute_reply.started": "2022-11-06T09:40:21.101194Z"
    }
   },
   "outputs": [
    {
     "name": "stdout",
     "output_type": "stream",
     "text": [
      "Epoch 1/5\n",
      "1270/1270 [==============================] - 89s 70ms/step - loss: 0.2139 - accuracy: 0.9259 - precision: 0.9259 - recall: 0.9259 - auc: 0.9724 - val_loss: 0.1623 - val_accuracy: 0.9459 - val_precision: 0.9459 - val_recall: 0.9459 - val_auc: 0.9822\n",
      "Epoch 2/5\n",
      "1270/1270 [==============================] - 97s 76ms/step - loss: 0.1628 - accuracy: 0.9469 - precision: 0.9469 - recall: 0.9469 - auc: 0.9816 - val_loss: 0.1626 - val_accuracy: 0.9459 - val_precision: 0.9459 - val_recall: 0.9459 - val_auc: 0.9821\n",
      "Epoch 3/5\n",
      "1270/1270 [==============================] - 89s 70ms/step - loss: 0.1708 - accuracy: 0.9432 - precision: 0.9432 - recall: 0.9432 - auc: 0.9802 - val_loss: 0.1791 - val_accuracy: 0.9417 - val_precision: 0.9417 - val_recall: 0.9417 - val_auc: 0.9781\n",
      "Epoch 4/5\n",
      "1270/1270 [==============================] - 97s 76ms/step - loss: 0.1860 - accuracy: 0.9372 - precision: 0.9372 - recall: 0.9372 - auc: 0.9769 - val_loss: 0.1816 - val_accuracy: 0.9366 - val_precision: 0.9366 - val_recall: 0.9366 - val_auc: 0.9786\n",
      "Epoch 5/5\n",
      "1270/1270 [==============================] - 89s 70ms/step - loss: 0.1766 - accuracy: 0.9411 - precision: 0.9411 - recall: 0.9411 - auc: 0.9788 - val_loss: 0.1822 - val_accuracy: 0.9398 - val_precision: 0.9398 - val_recall: 0.9398 - val_auc: 0.9769\n"
     ]
    }
   ],
   "source": [
    "# callback = tf.keras.callbacks.EarlyStopping(monitor='val_auc', patience=10, mode='max', restore_best_weights=True)\n",
    "tf.config.run_functions_eagerly(True)\n",
    "\n",
    "num_epochs = 5\n",
    "history = model.fit(\n",
    "    X_train,\n",
    "    Training_labels,\n",
    "    epochs=num_epochs,\n",
    "    batch_size = 128,\n",
    "    validation_data=(X_test, Testing_labels)\n",
    ")"
   ]
  },
  {
   "cell_type": "code",
   "execution_count": 70,
   "metadata": {
    "execution": {
     "iopub.execute_input": "2022-11-06T09:48:43.061384Z",
     "iopub.status.busy": "2022-11-06T09:48:43.060979Z",
     "iopub.status.idle": "2022-11-06T09:49:09.270094Z",
     "shell.execute_reply": "2022-11-06T09:49:09.269088Z",
     "shell.execute_reply.started": "2022-11-06T09:48:43.061348Z"
    }
   },
   "outputs": [
    {
     "name": "stdout",
     "output_type": "stream",
     "text": [
      "[[19751   337]\n",
      " [ 2109 18421]]\n",
      "              precision    recall  f1-score   support\n",
      "\n",
      "           0       0.90      0.98      0.94     20088\n",
      "           1       0.98      0.90      0.94     20530\n",
      "\n",
      "    accuracy                           0.94     40618\n",
      "   macro avg       0.94      0.94      0.94     40618\n",
      "weighted avg       0.94      0.94      0.94     40618\n",
      "\n"
     ]
    }
   ],
   "source": [
    "predicted_prob = model.predict(X_test)\n",
    "predicted = [np.argmax(pred) for pred in predicted_prob]\n",
    "print(confusion_matrix(Y_test,predicted))\n",
    "print(classification_report(Y_test,predicted))"
   ]
  },
  {
   "cell_type": "markdown",
   "metadata": {},
   "source": [
    "## Without smote"
   ]
  },
  {
   "cell_type": "code",
   "execution_count": 71,
   "metadata": {
    "execution": {
     "iopub.execute_input": "2022-11-06T09:49:09.272037Z",
     "iopub.status.busy": "2022-11-06T09:49:09.271687Z",
     "iopub.status.idle": "2022-11-06T09:49:09.416496Z",
     "shell.execute_reply": "2022-11-06T09:49:09.415425Z",
     "shell.execute_reply.started": "2022-11-06T09:49:09.272001Z"
    }
   },
   "outputs": [
    {
     "name": "stdout",
     "output_type": "stream",
     "text": [
      "Model: \"sequential_21\"\n",
      "_________________________________________________________________\n",
      "Layer (type)                 Output Shape              Param #   \n",
      "=================================================================\n",
      "embedding_20 (Embedding)     (None, 46, 100)           2804800   \n",
      "_________________________________________________________________\n",
      "conv1d_20 (Conv1D)           (None, 46, 64)            32064     \n",
      "_________________________________________________________________\n",
      "max_pooling1d_19 (MaxPooling (None, 10, 64)            0         \n",
      "_________________________________________________________________\n",
      "dropout_39 (Dropout)         (None, 10, 64)            0         \n",
      "_________________________________________________________________\n",
      "bidirectional_6 (Bidirection (None, 60)                5700      \n",
      "_________________________________________________________________\n",
      "dense_40 (Dense)             (None, 32)                1952      \n",
      "_________________________________________________________________\n",
      "dropout_40 (Dropout)         (None, 32)                0         \n",
      "_________________________________________________________________\n",
      "dense_41 (Dense)             (None, 2)                 66        \n",
      "=================================================================\n",
      "Total params: 2,844,582\n",
      "Trainable params: 2,844,582\n",
      "Non-trainable params: 0\n",
      "_________________________________________________________________\n"
     ]
    }
   ],
   "source": [
    "filter_size = 64\n",
    "kernel_size = 5\n",
    "pool_size = 5\n",
    "\n",
    "\n",
    "model = tf.keras.Sequential([\n",
    "#    tf.keras.layers.Embedding(vocab_size, embedding_dim, input_length=max_length,\n",
    "#                              embeddings_initializer='orthogonal', embeddings_regularizer='L2'),\n",
    "    tf.keras.layers.Embedding(vocab_size, embedding_dim, input_length=max_length),\n",
    "    tf.keras.layers.Conv1D(filter_size, kernel_size, activation='relu', padding='same'),\n",
    "    tf.keras.layers.MaxPooling1D(pool_size, padding='same'),\n",
    "    tf.keras.layers.Dropout(0.2),\n",
    "    tf.keras.layers.Bidirectional(tf.keras.layers.SimpleRNN(30)),\n",
    "    tf.keras.layers.Dense(32, activation=tf.nn.relu),\n",
    "    tf.keras.layers.Dropout(0.2),\n",
    "    tf.keras.layers.Dense(2, activation=tf.nn.softmax)\n",
    "])\n",
    "\n",
    "model.compile(\n",
    "    loss=tf.keras.losses.CategoricalCrossentropy(),\n",
    "    optimizer=tf.keras.optimizers.Adam(learning_rate=0.01),\n",
    "    metrics=METRICS\n",
    ")\n",
    "model.summary()"
   ]
  },
  {
   "cell_type": "code",
   "execution_count": 72,
   "metadata": {
    "execution": {
     "iopub.execute_input": "2022-11-06T09:49:09.420460Z",
     "iopub.status.busy": "2022-11-06T09:49:09.420131Z",
     "iopub.status.idle": "2022-11-06T09:53:31.378259Z",
     "shell.execute_reply": "2022-11-06T09:53:31.377222Z",
     "shell.execute_reply.started": "2022-11-06T09:49:09.420431Z"
    }
   },
   "outputs": [
    {
     "name": "stdout",
     "output_type": "stream",
     "text": [
      "Epoch 1/5\n",
      "656/656 [==============================] - 50s 76ms/step - loss: 0.0627 - accuracy: 0.9707 - precision: 0.9707 - recall: 0.9707 - auc: 0.9916 - val_loss: 0.0063 - val_accuracy: 0.9992 - val_precision: 0.9992 - val_recall: 0.9992 - val_auc: 0.9993\n",
      "Epoch 2/5\n",
      "656/656 [==============================] - 45s 69ms/step - loss: 0.0047 - accuracy: 0.9991 - precision: 0.9991 - recall: 0.9991 - auc: 0.9997 - val_loss: 0.0044 - val_accuracy: 0.9993 - val_precision: 0.9993 - val_recall: 0.9993 - val_auc: 0.9996\n",
      "Epoch 3/5\n",
      "656/656 [==============================] - 46s 70ms/step - loss: 0.0048 - accuracy: 0.9991 - precision: 0.9991 - recall: 0.9991 - auc: 0.9997 - val_loss: 0.0074 - val_accuracy: 0.9993 - val_precision: 0.9993 - val_recall: 0.9993 - val_auc: 0.9995\n",
      "Epoch 4/5\n",
      "656/656 [==============================] - 50s 76ms/step - loss: 0.0053 - accuracy: 0.9992 - precision: 0.9992 - recall: 0.9992 - auc: 0.9996 - val_loss: 0.0113 - val_accuracy: 0.9985 - val_precision: 0.9985 - val_recall: 0.9985 - val_auc: 0.9993\n",
      "Epoch 5/5\n",
      "656/656 [==============================] - 46s 70ms/step - loss: 0.0036 - accuracy: 0.9994 - precision: 0.9994 - recall: 0.9994 - auc: 0.9999 - val_loss: 0.0085 - val_accuracy: 0.9994 - val_precision: 0.9994 - val_recall: 0.9994 - val_auc: 0.9995\n"
     ]
    }
   ],
   "source": [
    "# callback = tf.keras.callbacks.EarlyStopping(monitor='val_auc', patience=10, mode='max', restore_best_weights=True)\n",
    "tf.config.run_functions_eagerly(True)\n",
    "\n",
    "num_epochs = 5\n",
    "history = model.fit(\n",
    "    X_train1,\n",
    "    Training_labels1,\n",
    "    epochs=num_epochs,\n",
    "    batch_size = 128,\n",
    "    validation_data=(X_test1, Testing_labels1)\n",
    ")"
   ]
  },
  {
   "cell_type": "code",
   "execution_count": 73,
   "metadata": {
    "execution": {
     "iopub.execute_input": "2022-11-06T09:53:31.380896Z",
     "iopub.status.busy": "2022-11-06T09:53:31.380029Z",
     "iopub.status.idle": "2022-11-06T09:53:51.952951Z",
     "shell.execute_reply": "2022-11-06T09:53:51.951906Z",
     "shell.execute_reply.started": "2022-11-06T09:53:31.380855Z"
    }
   },
   "outputs": [
    {
     "name": "stdout",
     "output_type": "stream",
     "text": [
      "[[20309     1]\n",
      " [   12   641]]\n",
      "              precision    recall  f1-score   support\n",
      "\n",
      "           0       1.00      1.00      1.00     20310\n",
      "           1       1.00      0.98      0.99       653\n",
      "\n",
      "    accuracy                           1.00     20963\n",
      "   macro avg       1.00      0.99      0.99     20963\n",
      "weighted avg       1.00      1.00      1.00     20963\n",
      "\n"
     ]
    }
   ],
   "source": [
    "predicted_prob = model.predict(X_test1)\n",
    "predicted = [np.argmax(pred) for pred in predicted_prob]\n",
    "print(confusion_matrix(Y_test1,predicted))\n",
    "print(classification_report(Y_test1,predicted))"
   ]
  },
  {
   "cell_type": "markdown",
   "metadata": {},
   "source": [
    "# CNN"
   ]
  },
  {
   "cell_type": "markdown",
   "metadata": {},
   "source": [
    "## With smote"
   ]
  },
  {
   "cell_type": "code",
   "execution_count": 105,
   "metadata": {
    "execution": {
     "iopub.execute_input": "2022-11-06T10:44:45.450345Z",
     "iopub.status.busy": "2022-11-06T10:44:45.449896Z",
     "iopub.status.idle": "2022-11-06T10:44:45.519791Z",
     "shell.execute_reply": "2022-11-06T10:44:45.518717Z",
     "shell.execute_reply.started": "2022-11-06T10:44:45.450305Z"
    }
   },
   "outputs": [
    {
     "name": "stdout",
     "output_type": "stream",
     "text": [
      "Model: \"sequential_35\"\n",
      "_________________________________________________________________\n",
      "Layer (type)                 Output Shape              Param #   \n",
      "=================================================================\n",
      "embedding_28 (Embedding)     (None, 46, 100)           2804800   \n",
      "_________________________________________________________________\n",
      "conv1d_48 (Conv1D)           (None, 46, 16)            4816      \n",
      "_________________________________________________________________\n",
      "conv1d_49 (Conv1D)           (None, 46, 32)            1568      \n",
      "_________________________________________________________________\n",
      "conv1d_50 (Conv1D)           (None, 46, 64)            6208      \n",
      "_________________________________________________________________\n",
      "flatten_7 (Flatten)          (None, 2944)              0         \n",
      "_________________________________________________________________\n",
      "dense_68 (Dense)             (None, 128)               376960    \n",
      "_________________________________________________________________\n",
      "dense_69 (Dense)             (None, 2)                 258       \n",
      "=================================================================\n",
      "Total params: 3,194,610\n",
      "Trainable params: 3,194,610\n",
      "Non-trainable params: 0\n",
      "_________________________________________________________________\n"
     ]
    }
   ],
   "source": [
    "\n",
    "model = tf.keras.Sequential()\n",
    "model.add(tf.keras.layers.Embedding(vocab_size, embedding_dim, input_length=max_length))\n",
    "model.add(tf.keras.layers.Conv1D(16, 3, padding=\"same\"))\n",
    "model.add(tf.keras.layers.Conv1D(32, 3, padding=\"same\"))\n",
    "model.add(tf.keras.layers.Conv1D(64, 3, padding=\"same\"))\n",
    "model.add(tf.keras.layers.Flatten())\n",
    "model.add(tf.keras.layers.Dense(128, activation='relu')) \n",
    "#  model.add(keras.layers.Dense(64,  activation='relu')) \n",
    "\n",
    "model.add(tf.keras.layers.Dense(2, activation='sigmoid'))\n",
    "# Compile model\n",
    "model.compile(loss='categorical_crossentropy', optimizer='adam', metrics=['accuracy'])\n",
    "model.summary()"
   ]
  },
  {
   "cell_type": "code",
   "execution_count": 106,
   "metadata": {
    "execution": {
     "iopub.execute_input": "2022-11-06T10:44:45.575022Z",
     "iopub.status.busy": "2022-11-06T10:44:45.574743Z",
     "iopub.status.idle": "2022-11-06T10:48:07.533849Z",
     "shell.execute_reply": "2022-11-06T10:48:07.532661Z",
     "shell.execute_reply.started": "2022-11-06T10:44:45.574995Z"
    }
   },
   "outputs": [
    {
     "name": "stdout",
     "output_type": "stream",
     "text": [
      "Epoch 1/5\n",
      "1270/1270 [==============================] - 30s 24ms/step - loss: 0.1856 - accuracy: 0.9278 - val_loss: 0.1197 - val_accuracy: 0.9598\n",
      "Epoch 2/5\n",
      "1270/1270 [==============================] - 29s 23ms/step - loss: 0.0912 - accuracy: 0.9681 - val_loss: 0.1178 - val_accuracy: 0.9624\n",
      "Epoch 3/5\n",
      "1270/1270 [==============================] - 32s 25ms/step - loss: 0.0625 - accuracy: 0.9764 - val_loss: 0.1253 - val_accuracy: 0.9598\n",
      "Epoch 4/5\n",
      "1270/1270 [==============================] - 30s 24ms/step - loss: 0.0481 - accuracy: 0.9808 - val_loss: 0.1589 - val_accuracy: 0.9561\n",
      "Epoch 5/5\n",
      "1270/1270 [==============================] - 30s 24ms/step - loss: 0.0349 - accuracy: 0.9858 - val_loss: 0.1802 - val_accuracy: 0.9616\n"
     ]
    }
   ],
   "source": [
    "# callback = tf.keras.callbacks.EarlyStopping(monitor='val_auc', patience=10, mode='max', restore_best_weights=True)\n",
    "tf.config.run_functions_eagerly(True)\n",
    "\n",
    "num_epochs = 5\n",
    "history = model.fit(\n",
    "    X_train,\n",
    "    Training_labels,\n",
    "    epochs=num_epochs,\n",
    "    batch_size = 128,\n",
    "    validation_data=(X_test, Testing_labels)\n",
    ")"
   ]
  },
  {
   "cell_type": "code",
   "execution_count": 107,
   "metadata": {
    "execution": {
     "iopub.execute_input": "2022-11-06T10:48:07.537253Z",
     "iopub.status.busy": "2022-11-06T10:48:07.535928Z",
     "iopub.status.idle": "2022-11-06T10:48:13.262162Z",
     "shell.execute_reply": "2022-11-06T10:48:13.261137Z",
     "shell.execute_reply.started": "2022-11-06T10:48:07.537210Z"
    }
   },
   "outputs": [
    {
     "name": "stdout",
     "output_type": "stream",
     "text": [
      "[[19759   329]\n",
      " [ 1229 19301]]\n",
      "              precision    recall  f1-score   support\n",
      "\n",
      "           0       0.94      0.98      0.96     20088\n",
      "           1       0.98      0.94      0.96     20530\n",
      "\n",
      "    accuracy                           0.96     40618\n",
      "   macro avg       0.96      0.96      0.96     40618\n",
      "weighted avg       0.96      0.96      0.96     40618\n",
      "\n"
     ]
    }
   ],
   "source": [
    "predicted_prob = model.predict(X_test)\n",
    "predicted = [np.argmax(pred) for pred in predicted_prob]\n",
    "print(confusion_matrix(Y_test,predicted))\n",
    "print(classification_report(Y_test,predicted))"
   ]
  },
  {
   "cell_type": "markdown",
   "metadata": {},
   "source": [
    "## Without smote"
   ]
  },
  {
   "cell_type": "code",
   "execution_count": 102,
   "metadata": {
    "execution": {
     "iopub.execute_input": "2022-11-06T10:12:27.865998Z",
     "iopub.status.busy": "2022-11-06T10:12:27.865642Z",
     "iopub.status.idle": "2022-11-06T10:12:27.931036Z",
     "shell.execute_reply": "2022-11-06T10:12:27.929896Z",
     "shell.execute_reply.started": "2022-11-06T10:12:27.865969Z"
    }
   },
   "outputs": [
    {
     "name": "stdout",
     "output_type": "stream",
     "text": [
      "Model: \"sequential_34\"\n",
      "_________________________________________________________________\n",
      "Layer (type)                 Output Shape              Param #   \n",
      "=================================================================\n",
      "embedding_27 (Embedding)     (None, 46, 100)           2804800   \n",
      "_________________________________________________________________\n",
      "conv1d_45 (Conv1D)           (None, 46, 16)            4816      \n",
      "_________________________________________________________________\n",
      "conv1d_46 (Conv1D)           (None, 46, 32)            1568      \n",
      "_________________________________________________________________\n",
      "conv1d_47 (Conv1D)           (None, 46, 64)            6208      \n",
      "_________________________________________________________________\n",
      "flatten_6 (Flatten)          (None, 2944)              0         \n",
      "_________________________________________________________________\n",
      "dense_66 (Dense)             (None, 128)               376960    \n",
      "_________________________________________________________________\n",
      "dense_67 (Dense)             (None, 2)                 258       \n",
      "=================================================================\n",
      "Total params: 3,194,610\n",
      "Trainable params: 3,194,610\n",
      "Non-trainable params: 0\n",
      "_________________________________________________________________\n"
     ]
    }
   ],
   "source": [
    "\n",
    "model = tf.keras.Sequential()\n",
    "model.add(tf.keras.layers.Embedding(vocab_size, embedding_dim, input_length=max_length))\n",
    "model.add(tf.keras.layers.Conv1D(16, 3, padding=\"same\"))\n",
    "model.add(tf.keras.layers.Conv1D(32, 3, padding=\"same\"))\n",
    "model.add(tf.keras.layers.Conv1D(64, 3, padding=\"same\"))\n",
    "model.add(tf.keras.layers.Flatten())\n",
    "model.add(tf.keras.layers.Dense(128, activation='relu')) \n",
    "#  model.add(keras.layers.Dense(64,  activation='relu')) \n",
    "\n",
    "model.add(tf.keras.layers.Dense(2, activation='sigmoid'))\n",
    "# Compile model\n",
    "model.compile(loss='categorical_crossentropy', optimizer='adam', metrics=['accuracy'])\n",
    "model.summary()"
   ]
  },
  {
   "cell_type": "code",
   "execution_count": 103,
   "metadata": {
    "execution": {
     "iopub.execute_input": "2022-11-06T10:12:30.744299Z",
     "iopub.status.busy": "2022-11-06T10:12:30.743915Z",
     "iopub.status.idle": "2022-11-06T10:13:50.118675Z",
     "shell.execute_reply": "2022-11-06T10:13:50.117704Z",
     "shell.execute_reply.started": "2022-11-06T10:12:30.744267Z"
    }
   },
   "outputs": [
    {
     "name": "stdout",
     "output_type": "stream",
     "text": [
      "Epoch 1/5\n",
      "656/656 [==============================] - 17s 25ms/step - loss: 0.0425 - accuracy: 0.9899 - val_loss: 9.7999e-04 - val_accuracy: 0.9998\n",
      "Epoch 2/5\n",
      "656/656 [==============================] - 16s 24ms/step - loss: 5.8253e-05 - accuracy: 1.0000 - val_loss: 0.0017 - val_accuracy: 0.9997\n",
      "Epoch 3/5\n",
      "656/656 [==============================] - 15s 23ms/step - loss: 1.5667e-05 - accuracy: 1.0000 - val_loss: 0.0013 - val_accuracy: 0.9997\n",
      "Epoch 4/5\n",
      "656/656 [==============================] - 17s 25ms/step - loss: 8.5605e-07 - accuracy: 1.0000 - val_loss: 0.0013 - val_accuracy: 0.9997\n",
      "Epoch 5/5\n",
      "656/656 [==============================] - 15s 23ms/step - loss: 5.0170e-07 - accuracy: 1.0000 - val_loss: 0.0014 - val_accuracy: 0.9997\n"
     ]
    }
   ],
   "source": [
    "num_epochs = 5\n",
    "history = model.fit(\n",
    "    X_train1,\n",
    "    Training_labels1,\n",
    "    epochs=num_epochs,\n",
    "    batch_size = 128,\n",
    "    validation_data=(X_test1, Testing_labels1)\n",
    ")"
   ]
  },
  {
   "cell_type": "code",
   "execution_count": 104,
   "metadata": {
    "execution": {
     "iopub.execute_input": "2022-11-06T10:13:50.122359Z",
     "iopub.status.busy": "2022-11-06T10:13:50.122042Z",
     "iopub.status.idle": "2022-11-06T10:13:52.951799Z",
     "shell.execute_reply": "2022-11-06T10:13:52.950649Z",
     "shell.execute_reply.started": "2022-11-06T10:13:50.122330Z"
    }
   },
   "outputs": [
    {
     "name": "stdout",
     "output_type": "stream",
     "text": [
      "[[20310     0]\n",
      " [    6   647]]\n",
      "              precision    recall  f1-score   support\n",
      "\n",
      "           0       1.00      1.00      1.00     20310\n",
      "           1       1.00      0.99      1.00       653\n",
      "\n",
      "    accuracy                           1.00     20963\n",
      "   macro avg       1.00      1.00      1.00     20963\n",
      "weighted avg       1.00      1.00      1.00     20963\n",
      "\n"
     ]
    }
   ],
   "source": [
    "predicted_prob = model.predict(X_test1)\n",
    "predicted = [np.argmax(pred) for pred in predicted_prob]\n",
    "print(confusion_matrix(Y_test1,predicted))\n",
    "print(classification_report(Y_test1,predicted))"
   ]
  },
  {
   "cell_type": "code",
   "execution_count": null,
   "metadata": {},
   "outputs": [],
   "source": []
  }
 ],
 "metadata": {
  "kernelspec": {
   "display_name": "Python 3 (ipykernel)",
   "language": "python",
   "name": "python3"
  },
  "language_info": {
   "codemirror_mode": {
    "name": "ipython",
    "version": 3
   },
   "file_extension": ".py",
   "mimetype": "text/x-python",
   "name": "python",
   "nbconvert_exporter": "python",
   "pygments_lexer": "ipython3",
   "version": "3.10.7"
  }
 },
 "nbformat": 4,
 "nbformat_minor": 4
}
